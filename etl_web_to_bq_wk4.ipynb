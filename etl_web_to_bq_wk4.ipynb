{
 "cells": [
  {
   "cell_type": "code",
   "execution_count": 10,
   "metadata": {},
   "outputs": [
    {
     "name": "stdout",
     "output_type": "stream",
     "text": [
      "Setup Complete\n"
     ]
    }
   ],
   "source": [
    "# imports\n",
    "import os\n",
    "from datetime import datetime\n",
    "from pathlib import Path\n",
    "import urllib.request\n",
    "# import pandas as pd\n",
    "import modin.pandas as pd\n",
    "from distributed import Client\n",
    "from prefect import task, flow\n",
    "from prefect_gcp import GcpCredentials\n",
    "import warnings\n",
    "warnings.filterwarnings('ignore')\n",
    "print(\"Setup Complete\")"
   ]
  },
  {
   "cell_type": "code",
   "execution_count": 11,
   "metadata": {},
   "outputs": [
    {
     "data": {
      "text/html": [
       "<pre style=\"white-space:pre;overflow-x:auto;line-height:normal;font-family:Menlo,'DejaVu Sans Mono',consolas,'Courier New',monospace\">07:09:41.749 | <span style=\"color: #008080; text-decoration-color: #008080\">INFO</span>    | distributed.scheduler - State start\n",
       "</pre>\n"
      ],
      "text/plain": [
       "07:09:41.749 | \u001b[36mINFO\u001b[0m    | distributed.scheduler - State start\n"
      ]
     },
     "metadata": {},
     "output_type": "display_data"
    },
    {
     "data": {
      "text/html": [
       "<pre style=\"white-space:pre;overflow-x:auto;line-height:normal;font-family:Menlo,'DejaVu Sans Mono',consolas,'Courier New',monospace\">07:09:41.781 | <span style=\"color: #008080; text-decoration-color: #008080\">INFO</span>    | distributed.scheduler -   Scheduler at:     tcp://127.0.0.1:61084\n",
       "</pre>\n"
      ],
      "text/plain": [
       "07:09:41.781 | \u001b[36mINFO\u001b[0m    | distributed.scheduler -   Scheduler at:     tcp://127.0.0.1:61084\n"
      ]
     },
     "metadata": {},
     "output_type": "display_data"
    },
    {
     "data": {
      "text/html": [
       "<pre style=\"white-space:pre;overflow-x:auto;line-height:normal;font-family:Menlo,'DejaVu Sans Mono',consolas,'Courier New',monospace\">07:09:41.787 | <span style=\"color: #008080; text-decoration-color: #008080\">INFO</span>    | distributed.scheduler -   dashboard at:           127.0.0.1:61083\n",
       "</pre>\n"
      ],
      "text/plain": [
       "07:09:41.787 | \u001b[36mINFO\u001b[0m    | distributed.scheduler -   dashboard at:           127.0.0.1:61083\n"
      ]
     },
     "metadata": {},
     "output_type": "display_data"
    },
    {
     "data": {
      "text/html": [
       "<pre style=\"white-space:pre;overflow-x:auto;line-height:normal;font-family:Menlo,'DejaVu Sans Mono',consolas,'Courier New',monospace\">07:09:41.825 | <span style=\"color: #008080; text-decoration-color: #008080\">INFO</span>    | distributed.nanny -         Start Nanny at: 'tcp://127.0.0.1:61087'\n",
       "</pre>\n"
      ],
      "text/plain": [
       "07:09:41.825 | \u001b[36mINFO\u001b[0m    | distributed.nanny -         Start Nanny at: 'tcp://127.0.0.1:61087'\n"
      ]
     },
     "metadata": {},
     "output_type": "display_data"
    },
    {
     "data": {
      "text/html": [
       "<pre style=\"white-space:pre;overflow-x:auto;line-height:normal;font-family:Menlo,'DejaVu Sans Mono',consolas,'Courier New',monospace\">07:09:41.830 | <span style=\"color: #008080; text-decoration-color: #008080\">INFO</span>    | distributed.nanny -         Start Nanny at: 'tcp://127.0.0.1:61088'\n",
       "</pre>\n"
      ],
      "text/plain": [
       "07:09:41.830 | \u001b[36mINFO\u001b[0m    | distributed.nanny -         Start Nanny at: 'tcp://127.0.0.1:61088'\n"
      ]
     },
     "metadata": {},
     "output_type": "display_data"
    },
    {
     "data": {
      "text/html": [
       "<pre style=\"white-space:pre;overflow-x:auto;line-height:normal;font-family:Menlo,'DejaVu Sans Mono',consolas,'Courier New',monospace\">07:09:41.855 | <span style=\"color: #008080; text-decoration-color: #008080\">INFO</span>    | distributed.nanny -         Start Nanny at: 'tcp://127.0.0.1:61089'\n",
       "</pre>\n"
      ],
      "text/plain": [
       "07:09:41.855 | \u001b[36mINFO\u001b[0m    | distributed.nanny -         Start Nanny at: 'tcp://127.0.0.1:61089'\n"
      ]
     },
     "metadata": {},
     "output_type": "display_data"
    },
    {
     "data": {
      "text/html": [
       "<pre style=\"white-space:pre;overflow-x:auto;line-height:normal;font-family:Menlo,'DejaVu Sans Mono',consolas,'Courier New',monospace\">07:09:41.875 | <span style=\"color: #008080; text-decoration-color: #008080\">INFO</span>    | distributed.nanny -         Start Nanny at: 'tcp://127.0.0.1:61090'\n",
       "</pre>\n"
      ],
      "text/plain": [
       "07:09:41.875 | \u001b[36mINFO\u001b[0m    | distributed.nanny -         Start Nanny at: 'tcp://127.0.0.1:61090'\n"
      ]
     },
     "metadata": {},
     "output_type": "display_data"
    },
    {
     "data": {
      "text/html": [
       "<pre style=\"white-space:pre;overflow-x:auto;line-height:normal;font-family:Menlo,'DejaVu Sans Mono',consolas,'Courier New',monospace\">07:09:43.590 | <span style=\"color: #008080; text-decoration-color: #008080\">INFO</span>    | distributed.scheduler - Register worker &lt;WorkerState 'tcp://127.0.0.1:61097', name: 1, status: init, memory: 0, processing: 0&gt;\n",
       "</pre>\n"
      ],
      "text/plain": [
       "07:09:43.590 | \u001b[36mINFO\u001b[0m    | distributed.scheduler - Register worker <WorkerState 'tcp://127.0.0.1:61097', name: 1, status: init, memory: 0, processing: 0>\n"
      ]
     },
     "metadata": {},
     "output_type": "display_data"
    },
    {
     "data": {
      "text/html": [
       "<pre style=\"white-space:pre;overflow-x:auto;line-height:normal;font-family:Menlo,'DejaVu Sans Mono',consolas,'Courier New',monospace\">07:09:43.612 | <span style=\"color: #008080; text-decoration-color: #008080\">INFO</span>    | distributed.scheduler - Starting worker compute stream, tcp://127.0.0.1:61097\n",
       "</pre>\n"
      ],
      "text/plain": [
       "07:09:43.612 | \u001b[36mINFO\u001b[0m    | distributed.scheduler - Starting worker compute stream, tcp://127.0.0.1:61097\n"
      ]
     },
     "metadata": {},
     "output_type": "display_data"
    },
    {
     "data": {
      "text/html": [
       "<pre style=\"white-space:pre;overflow-x:auto;line-height:normal;font-family:Menlo,'DejaVu Sans Mono',consolas,'Courier New',monospace\">07:09:43.614 | <span style=\"color: #008080; text-decoration-color: #008080\">INFO</span>    | distributed.core - Starting established connection to tcp://127.0.0.1:61107\n",
       "</pre>\n"
      ],
      "text/plain": [
       "07:09:43.614 | \u001b[36mINFO\u001b[0m    | distributed.core - Starting established connection to tcp://127.0.0.1:61107\n"
      ]
     },
     "metadata": {},
     "output_type": "display_data"
    },
    {
     "data": {
      "text/html": [
       "<pre style=\"white-space:pre;overflow-x:auto;line-height:normal;font-family:Menlo,'DejaVu Sans Mono',consolas,'Courier New',monospace\">07:09:43.616 | <span style=\"color: #008080; text-decoration-color: #008080\">INFO</span>    | distributed.scheduler - Register worker &lt;WorkerState 'tcp://127.0.0.1:61098', name: 2, status: init, memory: 0, processing: 0&gt;\n",
       "</pre>\n"
      ],
      "text/plain": [
       "07:09:43.616 | \u001b[36mINFO\u001b[0m    | distributed.scheduler - Register worker <WorkerState 'tcp://127.0.0.1:61098', name: 2, status: init, memory: 0, processing: 0>\n"
      ]
     },
     "metadata": {},
     "output_type": "display_data"
    },
    {
     "data": {
      "text/html": [
       "<pre style=\"white-space:pre;overflow-x:auto;line-height:normal;font-family:Menlo,'DejaVu Sans Mono',consolas,'Courier New',monospace\">07:09:43.618 | <span style=\"color: #008080; text-decoration-color: #008080\">INFO</span>    | distributed.scheduler - Starting worker compute stream, tcp://127.0.0.1:61098\n",
       "</pre>\n"
      ],
      "text/plain": [
       "07:09:43.618 | \u001b[36mINFO\u001b[0m    | distributed.scheduler - Starting worker compute stream, tcp://127.0.0.1:61098\n"
      ]
     },
     "metadata": {},
     "output_type": "display_data"
    },
    {
     "data": {
      "text/html": [
       "<pre style=\"white-space:pre;overflow-x:auto;line-height:normal;font-family:Menlo,'DejaVu Sans Mono',consolas,'Courier New',monospace\">07:09:43.618 | <span style=\"color: #008080; text-decoration-color: #008080\">INFO</span>    | distributed.core - Starting established connection to tcp://127.0.0.1:61106\n",
       "</pre>\n"
      ],
      "text/plain": [
       "07:09:43.618 | \u001b[36mINFO\u001b[0m    | distributed.core - Starting established connection to tcp://127.0.0.1:61106\n"
      ]
     },
     "metadata": {},
     "output_type": "display_data"
    },
    {
     "data": {
      "text/html": [
       "<pre style=\"white-space:pre;overflow-x:auto;line-height:normal;font-family:Menlo,'DejaVu Sans Mono',consolas,'Courier New',monospace\">07:09:43.620 | <span style=\"color: #008080; text-decoration-color: #008080\">INFO</span>    | distributed.scheduler - Register worker &lt;WorkerState 'tcp://127.0.0.1:61100', name: 0, status: init, memory: 0, processing: 0&gt;\n",
       "</pre>\n"
      ],
      "text/plain": [
       "07:09:43.620 | \u001b[36mINFO\u001b[0m    | distributed.scheduler - Register worker <WorkerState 'tcp://127.0.0.1:61100', name: 0, status: init, memory: 0, processing: 0>\n"
      ]
     },
     "metadata": {},
     "output_type": "display_data"
    },
    {
     "data": {
      "text/html": [
       "<pre style=\"white-space:pre;overflow-x:auto;line-height:normal;font-family:Menlo,'DejaVu Sans Mono',consolas,'Courier New',monospace\">07:09:43.622 | <span style=\"color: #008080; text-decoration-color: #008080\">INFO</span>    | distributed.scheduler - Starting worker compute stream, tcp://127.0.0.1:61100\n",
       "</pre>\n"
      ],
      "text/plain": [
       "07:09:43.622 | \u001b[36mINFO\u001b[0m    | distributed.scheduler - Starting worker compute stream, tcp://127.0.0.1:61100\n"
      ]
     },
     "metadata": {},
     "output_type": "display_data"
    },
    {
     "data": {
      "text/html": [
       "<pre style=\"white-space:pre;overflow-x:auto;line-height:normal;font-family:Menlo,'DejaVu Sans Mono',consolas,'Courier New',monospace\">07:09:43.625 | <span style=\"color: #008080; text-decoration-color: #008080\">INFO</span>    | distributed.core - Starting established connection to tcp://127.0.0.1:61105\n",
       "</pre>\n"
      ],
      "text/plain": [
       "07:09:43.625 | \u001b[36mINFO\u001b[0m    | distributed.core - Starting established connection to tcp://127.0.0.1:61105\n"
      ]
     },
     "metadata": {},
     "output_type": "display_data"
    },
    {
     "data": {
      "text/html": [
       "<pre style=\"white-space:pre;overflow-x:auto;line-height:normal;font-family:Menlo,'DejaVu Sans Mono',consolas,'Courier New',monospace\">07:09:43.627 | <span style=\"color: #008080; text-decoration-color: #008080\">INFO</span>    | distributed.scheduler - Register worker &lt;WorkerState 'tcp://127.0.0.1:61099', name: 3, status: init, memory: 0, processing: 0&gt;\n",
       "</pre>\n"
      ],
      "text/plain": [
       "07:09:43.627 | \u001b[36mINFO\u001b[0m    | distributed.scheduler - Register worker <WorkerState 'tcp://127.0.0.1:61099', name: 3, status: init, memory: 0, processing: 0>\n"
      ]
     },
     "metadata": {},
     "output_type": "display_data"
    },
    {
     "data": {
      "text/html": [
       "<pre style=\"white-space:pre;overflow-x:auto;line-height:normal;font-family:Menlo,'DejaVu Sans Mono',consolas,'Courier New',monospace\">07:09:43.629 | <span style=\"color: #008080; text-decoration-color: #008080\">INFO</span>    | distributed.scheduler - Starting worker compute stream, tcp://127.0.0.1:61099\n",
       "</pre>\n"
      ],
      "text/plain": [
       "07:09:43.629 | \u001b[36mINFO\u001b[0m    | distributed.scheduler - Starting worker compute stream, tcp://127.0.0.1:61099\n"
      ]
     },
     "metadata": {},
     "output_type": "display_data"
    },
    {
     "data": {
      "text/html": [
       "<pre style=\"white-space:pre;overflow-x:auto;line-height:normal;font-family:Menlo,'DejaVu Sans Mono',consolas,'Courier New',monospace\">07:09:43.630 | <span style=\"color: #008080; text-decoration-color: #008080\">INFO</span>    | distributed.core - Starting established connection to tcp://127.0.0.1:61108\n",
       "</pre>\n"
      ],
      "text/plain": [
       "07:09:43.630 | \u001b[36mINFO\u001b[0m    | distributed.core - Starting established connection to tcp://127.0.0.1:61108\n"
      ]
     },
     "metadata": {},
     "output_type": "display_data"
    },
    {
     "data": {
      "text/html": [
       "<pre style=\"white-space:pre;overflow-x:auto;line-height:normal;font-family:Menlo,'DejaVu Sans Mono',consolas,'Courier New',monospace\">07:09:43.638 | <span style=\"color: #008080; text-decoration-color: #008080\">INFO</span>    | distributed.scheduler - Receive client connection: Client-502a975a-b94f-11ed-9f5c-da4894514ac1\n",
       "</pre>\n"
      ],
      "text/plain": [
       "07:09:43.638 | \u001b[36mINFO\u001b[0m    | distributed.scheduler - Receive client connection: Client-502a975a-b94f-11ed-9f5c-da4894514ac1\n"
      ]
     },
     "metadata": {},
     "output_type": "display_data"
    },
    {
     "data": {
      "text/html": [
       "<pre style=\"white-space:pre;overflow-x:auto;line-height:normal;font-family:Menlo,'DejaVu Sans Mono',consolas,'Courier New',monospace\">07:09:43.639 | <span style=\"color: #008080; text-decoration-color: #008080\">INFO</span>    | distributed.core - Starting established connection to tcp://127.0.0.1:61109\n",
       "</pre>\n"
      ],
      "text/plain": [
       "07:09:43.639 | \u001b[36mINFO\u001b[0m    | distributed.core - Starting established connection to tcp://127.0.0.1:61109\n"
      ]
     },
     "metadata": {},
     "output_type": "display_data"
    }
   ],
   "source": [
    "# client\n",
    "client = Client()"
   ]
  },
  {
   "cell_type": "code",
   "execution_count": 2,
   "metadata": {},
   "outputs": [],
   "source": [
    "# Get data from Github url\n",
    "def get_data_from_web(dataset_url: str):\n",
    "    filename, _ = urllib.request.urlretrieve(dataset_url)\n",
    "    return filename\n",
    "\n",
    "url_yellow = \"https://github.com/DataTalksClub/nyc-tlc-data/releases/download/yellow/yellow_tripdata_2020-04.csv.gz\"\n",
    "url_green = \"https://github.com/DataTalksClub/nyc-tlc-data/releases/download/green/green_tripdata_2019-02.csv.gz\"\n",
    "source_file_green = get_data_from_web(url_green)\n",
    "source_file_yellow = get_data_from_web(url_yellow)"
   ]
  },
  {
   "cell_type": "code",
   "execution_count": 13,
   "metadata": {},
   "outputs": [
    {
     "name": "stdout",
     "output_type": "stream",
     "text": [
      "Data frame number of rows: 575685\n"
     ]
    },
    {
     "data": {
      "text/html": [
       "<div>\n",
       "<style scoped>\n",
       "    .dataframe tbody tr th:only-of-type {\n",
       "        vertical-align: middle;\n",
       "    }\n",
       "\n",
       "    .dataframe tbody tr th {\n",
       "        vertical-align: top;\n",
       "    }\n",
       "\n",
       "    .dataframe thead th {\n",
       "        text-align: right;\n",
       "    }\n",
       "</style>\n",
       "<table border=\"1\" class=\"dataframe\">\n",
       "  <thead>\n",
       "    <tr style=\"text-align: right;\">\n",
       "      <th></th>\n",
       "      <th>VendorID</th>\n",
       "      <th>pickup_datetime</th>\n",
       "      <th>dropoff_datetime</th>\n",
       "      <th>store_and_fwd_flag</th>\n",
       "      <th>RatecodeID</th>\n",
       "      <th>PULocationID</th>\n",
       "      <th>DOLocationID</th>\n",
       "      <th>passenger_count</th>\n",
       "      <th>trip_distance</th>\n",
       "      <th>fare_amount</th>\n",
       "      <th>...</th>\n",
       "      <th>mta_tax</th>\n",
       "      <th>tip_amount</th>\n",
       "      <th>tolls_amount</th>\n",
       "      <th>ehail_fee</th>\n",
       "      <th>improvement_surcharge</th>\n",
       "      <th>total_amount</th>\n",
       "      <th>payment_type</th>\n",
       "      <th>trip_type</th>\n",
       "      <th>congestion_surcharge</th>\n",
       "      <th>category</th>\n",
       "    </tr>\n",
       "  </thead>\n",
       "  <tbody>\n",
       "    <tr>\n",
       "      <th>0</th>\n",
       "      <td>2</td>\n",
       "      <td>2019-02-01 00:10:19</td>\n",
       "      <td>2019-02-01 00:21:43</td>\n",
       "      <td>N</td>\n",
       "      <td>1</td>\n",
       "      <td>92</td>\n",
       "      <td>135</td>\n",
       "      <td>1</td>\n",
       "      <td>2.79</td>\n",
       "      <td>11.0</td>\n",
       "      <td>...</td>\n",
       "      <td>0.5</td>\n",
       "      <td>3.08</td>\n",
       "      <td>0.0</td>\n",
       "      <td>NaN</td>\n",
       "      <td>0.3</td>\n",
       "      <td>15.38</td>\n",
       "      <td>1</td>\n",
       "      <td>1</td>\n",
       "      <td>0.0</td>\n",
       "      <td>green</td>\n",
       "    </tr>\n",
       "    <tr>\n",
       "      <th>1</th>\n",
       "      <td>2</td>\n",
       "      <td>2019-02-01 00:02:16</td>\n",
       "      <td>2019-02-01 00:24:37</td>\n",
       "      <td>N</td>\n",
       "      <td>1</td>\n",
       "      <td>66</td>\n",
       "      <td>36</td>\n",
       "      <td>1</td>\n",
       "      <td>4.46</td>\n",
       "      <td>17.5</td>\n",
       "      <td>...</td>\n",
       "      <td>0.5</td>\n",
       "      <td>3.76</td>\n",
       "      <td>0.0</td>\n",
       "      <td>NaN</td>\n",
       "      <td>0.3</td>\n",
       "      <td>22.56</td>\n",
       "      <td>1</td>\n",
       "      <td>1</td>\n",
       "      <td>0.0</td>\n",
       "      <td>green</td>\n",
       "    </tr>\n",
       "    <tr>\n",
       "      <th>2</th>\n",
       "      <td>2</td>\n",
       "      <td>2019-02-01 00:37:19</td>\n",
       "      <td>2019-02-01 00:43:07</td>\n",
       "      <td>N</td>\n",
       "      <td>1</td>\n",
       "      <td>255</td>\n",
       "      <td>112</td>\n",
       "      <td>1</td>\n",
       "      <td>1.26</td>\n",
       "      <td>6.0</td>\n",
       "      <td>...</td>\n",
       "      <td>0.5</td>\n",
       "      <td>1.46</td>\n",
       "      <td>0.0</td>\n",
       "      <td>NaN</td>\n",
       "      <td>0.3</td>\n",
       "      <td>8.76</td>\n",
       "      <td>1</td>\n",
       "      <td>1</td>\n",
       "      <td>0.0</td>\n",
       "      <td>green</td>\n",
       "    </tr>\n",
       "    <tr>\n",
       "      <th>3</th>\n",
       "      <td>1</td>\n",
       "      <td>2019-02-01 00:10:10</td>\n",
       "      <td>2019-02-01 00:12:21</td>\n",
       "      <td>N</td>\n",
       "      <td>1</td>\n",
       "      <td>75</td>\n",
       "      <td>238</td>\n",
       "      <td>1</td>\n",
       "      <td>0.70</td>\n",
       "      <td>4.0</td>\n",
       "      <td>...</td>\n",
       "      <td>0.5</td>\n",
       "      <td>0.00</td>\n",
       "      <td>0.0</td>\n",
       "      <td>NaN</td>\n",
       "      <td>0.3</td>\n",
       "      <td>5.30</td>\n",
       "      <td>2</td>\n",
       "      <td>1</td>\n",
       "      <td>0.0</td>\n",
       "      <td>green</td>\n",
       "    </tr>\n",
       "    <tr>\n",
       "      <th>4</th>\n",
       "      <td>1</td>\n",
       "      <td>2019-02-01 00:30:19</td>\n",
       "      <td>2019-02-01 00:46:14</td>\n",
       "      <td>N</td>\n",
       "      <td>1</td>\n",
       "      <td>75</td>\n",
       "      <td>48</td>\n",
       "      <td>1</td>\n",
       "      <td>3.90</td>\n",
       "      <td>14.5</td>\n",
       "      <td>...</td>\n",
       "      <td>0.5</td>\n",
       "      <td>0.00</td>\n",
       "      <td>0.0</td>\n",
       "      <td>NaN</td>\n",
       "      <td>0.3</td>\n",
       "      <td>15.80</td>\n",
       "      <td>2</td>\n",
       "      <td>1</td>\n",
       "      <td>0.0</td>\n",
       "      <td>green</td>\n",
       "    </tr>\n",
       "  </tbody>\n",
       "</table>\n",
       "<p>5 rows x 21 columns</p>\n",
       "</div>"
      ],
      "text/plain": [
       "   VendorID     pickup_datetime    dropoff_datetime store_and_fwd_flag  \\\n",
       "0         2 2019-02-01 00:10:19 2019-02-01 00:21:43                  N   \n",
       "1         2 2019-02-01 00:02:16 2019-02-01 00:24:37                  N   \n",
       "2         2 2019-02-01 00:37:19 2019-02-01 00:43:07                  N   \n",
       "3         1 2019-02-01 00:10:10 2019-02-01 00:12:21                  N   \n",
       "4         1 2019-02-01 00:30:19 2019-02-01 00:46:14                  N   \n",
       "\n",
       "   RatecodeID  PULocationID  DOLocationID  passenger_count  trip_distance  \\\n",
       "0           1            92           135                1           2.79   \n",
       "1           1            66            36                1           4.46   \n",
       "2           1           255           112                1           1.26   \n",
       "3           1            75           238                1           0.70   \n",
       "4           1            75            48                1           3.90   \n",
       "\n",
       "   fare_amount  ...  mta_tax  tip_amount  tolls_amount  ehail_fee  \\\n",
       "0         11.0  ...      0.5        3.08           0.0        NaN   \n",
       "1         17.5  ...      0.5        3.76           0.0        NaN   \n",
       "2          6.0  ...      0.5        1.46           0.0        NaN   \n",
       "3          4.0  ...      0.5        0.00           0.0        NaN   \n",
       "4         14.5  ...      0.5        0.00           0.0        NaN   \n",
       "\n",
       "   improvement_surcharge  total_amount  payment_type  trip_type  \\\n",
       "0                    0.3         15.38             1          1   \n",
       "1                    0.3         22.56             1          1   \n",
       "2                    0.3          8.76             1          1   \n",
       "3                    0.3          5.30             2          1   \n",
       "4                    0.3         15.80             2          1   \n",
       "\n",
       "   congestion_surcharge  category  \n",
       "0                   0.0     green  \n",
       "1                   0.0     green  \n",
       "2                   0.0     green  \n",
       "3                   0.0     green  \n",
       "4                   0.0     green  \n",
       "\n",
       "[5 rows x 21 columns]"
      ]
     },
     "execution_count": 13,
     "metadata": {},
     "output_type": "execute_result"
    },
    {
     "data": {
      "text/html": [
       "<pre style=\"white-space:pre;overflow-x:auto;line-height:normal;font-family:Menlo,'DejaVu Sans Mono',consolas,'Courier New',monospace\">08:51:23.905 | <span style=\"color: #008080; text-decoration-color: #008080\">INFO</span>    | distributed.core - Event loop was unresponsive in Nanny for 205.75s.  This is often caused by long-running GIL-holding functions or moving large chunks of data. This can cause timeouts and instability.\n",
       "</pre>\n"
      ],
      "text/plain": [
       "08:51:23.905 | \u001b[36mINFO\u001b[0m    | distributed.core - Event loop was unresponsive in Nanny for 205.75s.  This is often caused by long-running GIL-holding functions or moving large chunks of data. This can cause timeouts and instability.\n"
      ]
     },
     "metadata": {},
     "output_type": "display_data"
    },
    {
     "data": {
      "text/html": [
       "<pre style=\"white-space:pre;overflow-x:auto;line-height:normal;font-family:Menlo,'DejaVu Sans Mono',consolas,'Courier New',monospace\">08:51:24.067 | <span style=\"color: #008080; text-decoration-color: #008080\">INFO</span>    | distributed.core - Event loop was unresponsive in Nanny for 205.88s.  This is often caused by long-running GIL-holding functions or moving large chunks of data. This can cause timeouts and instability.\n",
       "</pre>\n"
      ],
      "text/plain": [
       "08:51:24.067 | \u001b[36mINFO\u001b[0m    | distributed.core - Event loop was unresponsive in Nanny for 205.88s.  This is often caused by long-running GIL-holding functions or moving large chunks of data. This can cause timeouts and instability.\n"
      ]
     },
     "metadata": {},
     "output_type": "display_data"
    },
    {
     "data": {
      "text/html": [
       "<pre style=\"white-space:pre;overflow-x:auto;line-height:normal;font-family:Menlo,'DejaVu Sans Mono',consolas,'Courier New',monospace\">08:51:23.972 | <span style=\"color: #008080; text-decoration-color: #008080\">INFO</span>    | distributed.core - Event loop was unresponsive in Scheduler for 205.97s.  This is often caused by long-running GIL-holding functions or moving large chunks of data. This can cause timeouts and instability.\n",
       "</pre>\n"
      ],
      "text/plain": [
       "08:51:23.972 | \u001b[36mINFO\u001b[0m    | distributed.core - Event loop was unresponsive in Scheduler for 205.97s.  This is often caused by long-running GIL-holding functions or moving large chunks of data. This can cause timeouts and instability.\n"
      ]
     },
     "metadata": {},
     "output_type": "display_data"
    },
    {
     "data": {
      "text/html": [
       "<pre style=\"white-space:pre;overflow-x:auto;line-height:normal;font-family:Menlo,'DejaVu Sans Mono',consolas,'Courier New',monospace\">08:51:23.902 | <span style=\"color: #008080; text-decoration-color: #008080\">INFO</span>    | distributed.core - Event loop was unresponsive in Nanny for 205.91s.  This is often caused by long-running GIL-holding functions or moving large chunks of data. This can cause timeouts and instability.\n",
       "</pre>\n"
      ],
      "text/plain": [
       "08:51:23.902 | \u001b[36mINFO\u001b[0m    | distributed.core - Event loop was unresponsive in Nanny for 205.91s.  This is often caused by long-running GIL-holding functions or moving large chunks of data. This can cause timeouts and instability.\n"
      ]
     },
     "metadata": {},
     "output_type": "display_data"
    },
    {
     "data": {
      "text/html": [
       "<pre style=\"white-space:pre;overflow-x:auto;line-height:normal;font-family:Menlo,'DejaVu Sans Mono',consolas,'Courier New',monospace\">08:51:25.489 | <span style=\"color: #008080; text-decoration-color: #008080\">INFO</span>    | distributed.core - Event loop was unresponsive in Nanny for 207.51s.  This is often caused by long-running GIL-holding functions or moving large chunks of data. This can cause timeouts and instability.\n",
       "</pre>\n"
      ],
      "text/plain": [
       "08:51:25.489 | \u001b[36mINFO\u001b[0m    | distributed.core - Event loop was unresponsive in Nanny for 207.51s.  This is often caused by long-running GIL-holding functions or moving large chunks of data. This can cause timeouts and instability.\n"
      ]
     },
     "metadata": {},
     "output_type": "display_data"
    },
    {
     "data": {
      "text/html": [
       "<pre style=\"white-space:pre;overflow-x:auto;line-height:normal;font-family:Menlo,'DejaVu Sans Mono',consolas,'Courier New',monospace\">08:51:25.528 | <span style=\"color: #008080; text-decoration-color: #008080\">INFO</span>    | distributed.core - Event loop was unresponsive in Nanny for 207.55s.  This is often caused by long-running GIL-holding functions or moving large chunks of data. This can cause timeouts and instability.\n",
       "</pre>\n"
      ],
      "text/plain": [
       "08:51:25.528 | \u001b[36mINFO\u001b[0m    | distributed.core - Event loop was unresponsive in Nanny for 207.55s.  This is often caused by long-running GIL-holding functions or moving large chunks of data. This can cause timeouts and instability.\n"
      ]
     },
     "metadata": {},
     "output_type": "display_data"
    },
    {
     "data": {
      "text/html": [
       "<pre style=\"white-space:pre;overflow-x:auto;line-height:normal;font-family:Menlo,'DejaVu Sans Mono',consolas,'Courier New',monospace\">08:51:25.545 | <span style=\"color: #008080; text-decoration-color: #008080\">INFO</span>    | distributed.core - Event loop was unresponsive in Nanny for 207.55s.  This is often caused by long-running GIL-holding functions or moving large chunks of data. This can cause timeouts and instability.\n",
       "</pre>\n"
      ],
      "text/plain": [
       "08:51:25.545 | \u001b[36mINFO\u001b[0m    | distributed.core - Event loop was unresponsive in Nanny for 207.55s.  This is often caused by long-running GIL-holding functions or moving large chunks of data. This can cause timeouts and instability.\n"
      ]
     },
     "metadata": {},
     "output_type": "display_data"
    },
    {
     "data": {
      "text/html": [
       "<pre style=\"white-space:pre;overflow-x:auto;line-height:normal;font-family:Menlo,'DejaVu Sans Mono',consolas,'Courier New',monospace\">08:51:25.569 | <span style=\"color: #008080; text-decoration-color: #008080\">INFO</span>    | distributed.core - Event loop was unresponsive in Nanny for 207.58s.  This is often caused by long-running GIL-holding functions or moving large chunks of data. This can cause timeouts and instability.\n",
       "</pre>\n"
      ],
      "text/plain": [
       "08:51:25.569 | \u001b[36mINFO\u001b[0m    | distributed.core - Event loop was unresponsive in Nanny for 207.58s.  This is often caused by long-running GIL-holding functions or moving large chunks of data. This can cause timeouts and instability.\n"
      ]
     },
     "metadata": {},
     "output_type": "display_data"
    },
    {
     "data": {
      "text/html": [
       "<pre style=\"white-space:pre;overflow-x:auto;line-height:normal;font-family:Menlo,'DejaVu Sans Mono',consolas,'Courier New',monospace\">08:51:25.614 | <span style=\"color: #008080; text-decoration-color: #008080\">INFO</span>    | distributed.core - Event loop was unresponsive in Nanny for 207.63s.  This is often caused by long-running GIL-holding functions or moving large chunks of data. This can cause timeouts and instability.\n",
       "</pre>\n"
      ],
      "text/plain": [
       "08:51:25.614 | \u001b[36mINFO\u001b[0m    | distributed.core - Event loop was unresponsive in Nanny for 207.63s.  This is often caused by long-running GIL-holding functions or moving large chunks of data. This can cause timeouts and instability.\n"
      ]
     },
     "metadata": {},
     "output_type": "display_data"
    },
    {
     "data": {
      "text/html": [
       "<pre style=\"white-space:pre;overflow-x:auto;line-height:normal;font-family:Menlo,'DejaVu Sans Mono',consolas,'Courier New',monospace\">08:51:25.615 | <span style=\"color: #008080; text-decoration-color: #008080\">INFO</span>    | distributed.core - Event loop was unresponsive in Nanny for 207.63s.  This is often caused by long-running GIL-holding functions or moving large chunks of data. This can cause timeouts and instability.\n",
       "</pre>\n"
      ],
      "text/plain": [
       "08:51:25.615 | \u001b[36mINFO\u001b[0m    | distributed.core - Event loop was unresponsive in Nanny for 207.63s.  This is often caused by long-running GIL-holding functions or moving large chunks of data. This can cause timeouts and instability.\n"
      ]
     },
     "metadata": {},
     "output_type": "display_data"
    },
    {
     "data": {
      "text/html": [
       "<pre style=\"white-space:pre;overflow-x:auto;line-height:normal;font-family:Menlo,'DejaVu Sans Mono',consolas,'Courier New',monospace\">08:51:25.617 | <span style=\"color: #008080; text-decoration-color: #008080\">INFO</span>    | distributed.core - Event loop was unresponsive in Nanny for 207.62s.  This is often caused by long-running GIL-holding functions or moving large chunks of data. This can cause timeouts and instability.\n",
       "</pre>\n"
      ],
      "text/plain": [
       "08:51:25.617 | \u001b[36mINFO\u001b[0m    | distributed.core - Event loop was unresponsive in Nanny for 207.62s.  This is often caused by long-running GIL-holding functions or moving large chunks of data. This can cause timeouts and instability.\n"
      ]
     },
     "metadata": {},
     "output_type": "display_data"
    },
    {
     "data": {
      "text/html": [
       "<pre style=\"white-space:pre;overflow-x:auto;line-height:normal;font-family:Menlo,'DejaVu Sans Mono',consolas,'Courier New',monospace\">08:51:25.625 | <span style=\"color: #008080; text-decoration-color: #008080\">INFO</span>    | distributed.core - Event loop was unresponsive in Nanny for 207.64s.  This is often caused by long-running GIL-holding functions or moving large chunks of data. This can cause timeouts and instability.\n",
       "</pre>\n"
      ],
      "text/plain": [
       "08:51:25.625 | \u001b[36mINFO\u001b[0m    | distributed.core - Event loop was unresponsive in Nanny for 207.64s.  This is often caused by long-running GIL-holding functions or moving large chunks of data. This can cause timeouts and instability.\n"
      ]
     },
     "metadata": {},
     "output_type": "display_data"
    },
    {
     "data": {
      "text/html": [
       "<pre style=\"white-space:pre;overflow-x:auto;line-height:normal;font-family:Menlo,'DejaVu Sans Mono',consolas,'Courier New',monospace\">08:51:25.636 | <span style=\"color: #008080; text-decoration-color: #008080\">INFO</span>    | distributed.core - Event loop was unresponsive in Scheduler for 207.65s.  This is often caused by long-running GIL-holding functions or moving large chunks of data. This can cause timeouts and instability.\n",
       "</pre>\n"
      ],
      "text/plain": [
       "08:51:25.636 | \u001b[36mINFO\u001b[0m    | distributed.core - Event loop was unresponsive in Scheduler for 207.65s.  This is often caused by long-running GIL-holding functions or moving large chunks of data. This can cause timeouts and instability.\n"
      ]
     },
     "metadata": {},
     "output_type": "display_data"
    },
    {
     "data": {
      "text/html": [
       "<pre style=\"white-space:pre;overflow-x:auto;line-height:normal;font-family:Menlo,'DejaVu Sans Mono',consolas,'Courier New',monospace\">08:51:25.644 | <span style=\"color: #008080; text-decoration-color: #008080\">INFO</span>    | distributed.core - Event loop was unresponsive in Nanny for 207.66s.  This is often caused by long-running GIL-holding functions or moving large chunks of data. This can cause timeouts and instability.\n",
       "</pre>\n"
      ],
      "text/plain": [
       "08:51:25.644 | \u001b[36mINFO\u001b[0m    | distributed.core - Event loop was unresponsive in Nanny for 207.66s.  This is often caused by long-running GIL-holding functions or moving large chunks of data. This can cause timeouts and instability.\n"
      ]
     },
     "metadata": {},
     "output_type": "display_data"
    },
    {
     "data": {
      "text/html": [
       "<pre style=\"white-space:pre;overflow-x:auto;line-height:normal;font-family:Menlo,'DejaVu Sans Mono',consolas,'Courier New',monospace\">08:51:25.651 | <span style=\"color: #008080; text-decoration-color: #008080\">INFO</span>    | distributed.core - Event loop was unresponsive in Nanny for 207.65s.  This is often caused by long-running GIL-holding functions or moving large chunks of data. This can cause timeouts and instability.\n",
       "</pre>\n"
      ],
      "text/plain": [
       "08:51:25.651 | \u001b[36mINFO\u001b[0m    | distributed.core - Event loop was unresponsive in Nanny for 207.65s.  This is often caused by long-running GIL-holding functions or moving large chunks of data. This can cause timeouts and instability.\n"
      ]
     },
     "metadata": {},
     "output_type": "display_data"
    },
    {
     "data": {
      "text/html": [
       "<pre style=\"white-space:pre;overflow-x:auto;line-height:normal;font-family:Menlo,'DejaVu Sans Mono',consolas,'Courier New',monospace\">08:51:25.657 | <span style=\"color: #008080; text-decoration-color: #008080\">INFO</span>    | distributed.core - Event loop was unresponsive in Nanny for 207.67s.  This is often caused by long-running GIL-holding functions or moving large chunks of data. This can cause timeouts and instability.\n",
       "</pre>\n"
      ],
      "text/plain": [
       "08:51:25.657 | \u001b[36mINFO\u001b[0m    | distributed.core - Event loop was unresponsive in Nanny for 207.67s.  This is often caused by long-running GIL-holding functions or moving large chunks of data. This can cause timeouts and instability.\n"
      ]
     },
     "metadata": {},
     "output_type": "display_data"
    },
    {
     "data": {
      "text/html": [
       "<pre style=\"white-space:pre;overflow-x:auto;line-height:normal;font-family:Menlo,'DejaVu Sans Mono',consolas,'Courier New',monospace\">08:51:25.659 | <span style=\"color: #008080; text-decoration-color: #008080\">INFO</span>    | distributed.core - Event loop was unresponsive in Nanny for 207.66s.  This is often caused by long-running GIL-holding functions or moving large chunks of data. This can cause timeouts and instability.\n",
       "</pre>\n"
      ],
      "text/plain": [
       "08:51:25.659 | \u001b[36mINFO\u001b[0m    | distributed.core - Event loop was unresponsive in Nanny for 207.66s.  This is often caused by long-running GIL-holding functions or moving large chunks of data. This can cause timeouts and instability.\n"
      ]
     },
     "metadata": {},
     "output_type": "display_data"
    },
    {
     "data": {
      "text/html": [
       "<pre style=\"white-space:pre;overflow-x:auto;line-height:normal;font-family:Menlo,'DejaVu Sans Mono',consolas,'Courier New',monospace\">08:51:25.670 | <span style=\"color: #008080; text-decoration-color: #008080\">INFO</span>    | distributed.core - Event loop was unresponsive in Scheduler for 207.69s.  This is often caused by long-running GIL-holding functions or moving large chunks of data. This can cause timeouts and instability.\n",
       "</pre>\n"
      ],
      "text/plain": [
       "08:51:25.670 | \u001b[36mINFO\u001b[0m    | distributed.core - Event loop was unresponsive in Scheduler for 207.69s.  This is often caused by long-running GIL-holding functions or moving large chunks of data. This can cause timeouts and instability.\n"
      ]
     },
     "metadata": {},
     "output_type": "display_data"
    },
    {
     "data": {
      "text/html": [
       "<pre style=\"white-space:pre;overflow-x:auto;line-height:normal;font-family:Menlo,'DejaVu Sans Mono',consolas,'Courier New',monospace\">08:51:25.689 | <span style=\"color: #008080; text-decoration-color: #008080\">INFO</span>    | distributed.core - Event loop was unresponsive in Nanny for 207.69s.  This is often caused by long-running GIL-holding functions or moving large chunks of data. This can cause timeouts and instability.\n",
       "</pre>\n"
      ],
      "text/plain": [
       "08:51:25.689 | \u001b[36mINFO\u001b[0m    | distributed.core - Event loop was unresponsive in Nanny for 207.69s.  This is often caused by long-running GIL-holding functions or moving large chunks of data. This can cause timeouts and instability.\n"
      ]
     },
     "metadata": {},
     "output_type": "display_data"
    },
    {
     "data": {
      "text/html": [
       "<pre style=\"white-space:pre;overflow-x:auto;line-height:normal;font-family:Menlo,'DejaVu Sans Mono',consolas,'Courier New',monospace\">08:51:25.692 | <span style=\"color: #008080; text-decoration-color: #008080\">INFO</span>    | distributed.core - Event loop was unresponsive in Scheduler for 207.70s.  This is often caused by long-running GIL-holding functions or moving large chunks of data. This can cause timeouts and instability.\n",
       "</pre>\n"
      ],
      "text/plain": [
       "08:51:25.692 | \u001b[36mINFO\u001b[0m    | distributed.core - Event loop was unresponsive in Scheduler for 207.70s.  This is often caused by long-running GIL-holding functions or moving large chunks of data. This can cause timeouts and instability.\n"
      ]
     },
     "metadata": {},
     "output_type": "display_data"
    },
    {
     "data": {
      "text/html": [
       "<pre style=\"white-space:pre;overflow-x:auto;line-height:normal;font-family:Menlo,'DejaVu Sans Mono',consolas,'Courier New',monospace\">08:51:25.742 | <span style=\"color: #008080; text-decoration-color: #008080\">INFO</span>    | distributed.core - Event loop was unresponsive in Nanny for 207.76s.  This is often caused by long-running GIL-holding functions or moving large chunks of data. This can cause timeouts and instability.\n",
       "</pre>\n"
      ],
      "text/plain": [
       "08:51:25.742 | \u001b[36mINFO\u001b[0m    | distributed.core - Event loop was unresponsive in Nanny for 207.76s.  This is often caused by long-running GIL-holding functions or moving large chunks of data. This can cause timeouts and instability.\n"
      ]
     },
     "metadata": {},
     "output_type": "display_data"
    },
    {
     "data": {
      "text/html": [
       "<pre style=\"white-space:pre;overflow-x:auto;line-height:normal;font-family:Menlo,'DejaVu Sans Mono',consolas,'Courier New',monospace\">08:51:25.800 | <span style=\"color: #008080; text-decoration-color: #008080\">INFO</span>    | distributed.core - Event loop was unresponsive in Nanny for 207.81s.  This is often caused by long-running GIL-holding functions or moving large chunks of data. This can cause timeouts and instability.\n",
       "</pre>\n"
      ],
      "text/plain": [
       "08:51:25.800 | \u001b[36mINFO\u001b[0m    | distributed.core - Event loop was unresponsive in Nanny for 207.81s.  This is often caused by long-running GIL-holding functions or moving large chunks of data. This can cause timeouts and instability.\n"
      ]
     },
     "metadata": {},
     "output_type": "display_data"
    },
    {
     "data": {
      "text/html": [
       "<pre style=\"white-space:pre;overflow-x:auto;line-height:normal;font-family:Menlo,'DejaVu Sans Mono',consolas,'Courier New',monospace\">08:51:25.803 | <span style=\"color: #008080; text-decoration-color: #008080\">INFO</span>    | distributed.core - Event loop was unresponsive in Nanny for 207.81s.  This is often caused by long-running GIL-holding functions or moving large chunks of data. This can cause timeouts and instability.\n",
       "</pre>\n"
      ],
      "text/plain": [
       "08:51:25.803 | \u001b[36mINFO\u001b[0m    | distributed.core - Event loop was unresponsive in Nanny for 207.81s.  This is often caused by long-running GIL-holding functions or moving large chunks of data. This can cause timeouts and instability.\n"
      ]
     },
     "metadata": {},
     "output_type": "display_data"
    },
    {
     "data": {
      "text/html": [
       "<pre style=\"white-space:pre;overflow-x:auto;line-height:normal;font-family:Menlo,'DejaVu Sans Mono',consolas,'Courier New',monospace\">08:51:25.805 | <span style=\"color: #008080; text-decoration-color: #008080\">INFO</span>    | distributed.core - Event loop was unresponsive in Nanny for 207.81s.  This is often caused by long-running GIL-holding functions or moving large chunks of data. This can cause timeouts and instability.\n",
       "</pre>\n"
      ],
      "text/plain": [
       "08:51:25.805 | \u001b[36mINFO\u001b[0m    | distributed.core - Event loop was unresponsive in Nanny for 207.81s.  This is often caused by long-running GIL-holding functions or moving large chunks of data. This can cause timeouts and instability.\n"
      ]
     },
     "metadata": {},
     "output_type": "display_data"
    },
    {
     "data": {
      "text/html": [
       "<pre style=\"white-space:pre;overflow-x:auto;line-height:normal;font-family:Menlo,'DejaVu Sans Mono',consolas,'Courier New',monospace\">08:57:08.420 | <span style=\"color: #008080; text-decoration-color: #008080\">INFO</span>    | distributed.core - Event loop was unresponsive in Scheduler for 297.56s.  This is often caused by long-running GIL-holding functions or moving large chunks of data. This can cause timeouts and instability.\n",
       "</pre>\n"
      ],
      "text/plain": [
       "08:57:08.420 | \u001b[36mINFO\u001b[0m    | distributed.core - Event loop was unresponsive in Scheduler for 297.56s.  This is often caused by long-running GIL-holding functions or moving large chunks of data. This can cause timeouts and instability.\n"
      ]
     },
     "metadata": {},
     "output_type": "display_data"
    },
    {
     "data": {
      "text/html": [
       "<pre style=\"white-space:pre;overflow-x:auto;line-height:normal;font-family:Menlo,'DejaVu Sans Mono',consolas,'Courier New',monospace\">08:57:08.609 | <span style=\"color: #008080; text-decoration-color: #008080\">INFO</span>    | distributed.core - Event loop was unresponsive in Nanny for 297.96s.  This is often caused by long-running GIL-holding functions or moving large chunks of data. This can cause timeouts and instability.\n",
       "</pre>\n"
      ],
      "text/plain": [
       "08:57:08.609 | \u001b[36mINFO\u001b[0m    | distributed.core - Event loop was unresponsive in Nanny for 297.96s.  This is often caused by long-running GIL-holding functions or moving large chunks of data. This can cause timeouts and instability.\n"
      ]
     },
     "metadata": {},
     "output_type": "display_data"
    },
    {
     "data": {
      "text/html": [
       "<pre style=\"white-space:pre;overflow-x:auto;line-height:normal;font-family:Menlo,'DejaVu Sans Mono',consolas,'Courier New',monospace\">08:57:08.581 | <span style=\"color: #008080; text-decoration-color: #008080\">INFO</span>    | distributed.core - Event loop was unresponsive in Scheduler for 297.92s.  This is often caused by long-running GIL-holding functions or moving large chunks of data. This can cause timeouts and instability.\n",
       "</pre>\n"
      ],
      "text/plain": [
       "08:57:08.581 | \u001b[36mINFO\u001b[0m    | distributed.core - Event loop was unresponsive in Scheduler for 297.92s.  This is often caused by long-running GIL-holding functions or moving large chunks of data. This can cause timeouts and instability.\n"
      ]
     },
     "metadata": {},
     "output_type": "display_data"
    },
    {
     "data": {
      "text/html": [
       "<pre style=\"white-space:pre;overflow-x:auto;line-height:normal;font-family:Menlo,'DejaVu Sans Mono',consolas,'Courier New',monospace\">08:57:08.309 | <span style=\"color: #008080; text-decoration-color: #008080\">INFO</span>    | distributed.core - Event loop was unresponsive in Nanny for 297.67s.  This is often caused by long-running GIL-holding functions or moving large chunks of data. This can cause timeouts and instability.\n",
       "</pre>\n"
      ],
      "text/plain": [
       "08:57:08.309 | \u001b[36mINFO\u001b[0m    | distributed.core - Event loop was unresponsive in Nanny for 297.67s.  This is often caused by long-running GIL-holding functions or moving large chunks of data. This can cause timeouts and instability.\n"
      ]
     },
     "metadata": {},
     "output_type": "display_data"
    },
    {
     "data": {
      "text/html": [
       "<pre style=\"white-space:pre;overflow-x:auto;line-height:normal;font-family:Menlo,'DejaVu Sans Mono',consolas,'Courier New',monospace\">08:57:09.498 | <span style=\"color: #008080; text-decoration-color: #008080\">INFO</span>    | distributed.core - Event loop was unresponsive in Nanny for 298.86s.  This is often caused by long-running GIL-holding functions or moving large chunks of data. This can cause timeouts and instability.\n",
       "</pre>\n"
      ],
      "text/plain": [
       "08:57:09.498 | \u001b[36mINFO\u001b[0m    | distributed.core - Event loop was unresponsive in Nanny for 298.86s.  This is often caused by long-running GIL-holding functions or moving large chunks of data. This can cause timeouts and instability.\n"
      ]
     },
     "metadata": {},
     "output_type": "display_data"
    },
    {
     "data": {
      "text/html": [
       "<pre style=\"white-space:pre;overflow-x:auto;line-height:normal;font-family:Menlo,'DejaVu Sans Mono',consolas,'Courier New',monospace\">08:57:09.504 | <span style=\"color: #008080; text-decoration-color: #008080\">INFO</span>    | distributed.core - Event loop was unresponsive in Nanny for 298.85s.  This is often caused by long-running GIL-holding functions or moving large chunks of data. This can cause timeouts and instability.\n",
       "</pre>\n"
      ],
      "text/plain": [
       "08:57:09.504 | \u001b[36mINFO\u001b[0m    | distributed.core - Event loop was unresponsive in Nanny for 298.85s.  This is often caused by long-running GIL-holding functions or moving large chunks of data. This can cause timeouts and instability.\n"
      ]
     },
     "metadata": {},
     "output_type": "display_data"
    },
    {
     "data": {
      "text/html": [
       "<pre style=\"white-space:pre;overflow-x:auto;line-height:normal;font-family:Menlo,'DejaVu Sans Mono',consolas,'Courier New',monospace\">08:57:09.543 | <span style=\"color: #008080; text-decoration-color: #008080\">INFO</span>    | distributed.core - Event loop was unresponsive in Nanny for 298.89s.  This is often caused by long-running GIL-holding functions or moving large chunks of data. This can cause timeouts and instability.\n",
       "</pre>\n"
      ],
      "text/plain": [
       "08:57:09.543 | \u001b[36mINFO\u001b[0m    | distributed.core - Event loop was unresponsive in Nanny for 298.89s.  This is often caused by long-running GIL-holding functions or moving large chunks of data. This can cause timeouts and instability.\n"
      ]
     },
     "metadata": {},
     "output_type": "display_data"
    },
    {
     "data": {
      "text/html": [
       "<pre style=\"white-space:pre;overflow-x:auto;line-height:normal;font-family:Menlo,'DejaVu Sans Mono',consolas,'Courier New',monospace\">08:57:09.545 | <span style=\"color: #008080; text-decoration-color: #008080\">INFO</span>    | distributed.core - Event loop was unresponsive in Scheduler for 298.90s.  This is often caused by long-running GIL-holding functions or moving large chunks of data. This can cause timeouts and instability.\n",
       "</pre>\n"
      ],
      "text/plain": [
       "08:57:09.545 | \u001b[36mINFO\u001b[0m    | distributed.core - Event loop was unresponsive in Scheduler for 298.90s.  This is often caused by long-running GIL-holding functions or moving large chunks of data. This can cause timeouts and instability.\n"
      ]
     },
     "metadata": {},
     "output_type": "display_data"
    },
    {
     "data": {
      "text/html": [
       "<pre style=\"white-space:pre;overflow-x:auto;line-height:normal;font-family:Menlo,'DejaVu Sans Mono',consolas,'Courier New',monospace\">08:57:09.547 | <span style=\"color: #008080; text-decoration-color: #008080\">INFO</span>    | distributed.core - Event loop was unresponsive in Nanny for 298.89s.  This is often caused by long-running GIL-holding functions or moving large chunks of data. This can cause timeouts and instability.\n",
       "</pre>\n"
      ],
      "text/plain": [
       "08:57:09.547 | \u001b[36mINFO\u001b[0m    | distributed.core - Event loop was unresponsive in Nanny for 298.89s.  This is often caused by long-running GIL-holding functions or moving large chunks of data. This can cause timeouts and instability.\n"
      ]
     },
     "metadata": {},
     "output_type": "display_data"
    },
    {
     "data": {
      "text/html": [
       "<pre style=\"white-space:pre;overflow-x:auto;line-height:normal;font-family:Menlo,'DejaVu Sans Mono',consolas,'Courier New',monospace\">08:57:09.556 | <span style=\"color: #008080; text-decoration-color: #008080\">INFO</span>    | distributed.core - Event loop was unresponsive in Nanny for 298.91s.  This is often caused by long-running GIL-holding functions or moving large chunks of data. This can cause timeouts and instability.\n",
       "</pre>\n"
      ],
      "text/plain": [
       "08:57:09.556 | \u001b[36mINFO\u001b[0m    | distributed.core - Event loop was unresponsive in Nanny for 298.91s.  This is often caused by long-running GIL-holding functions or moving large chunks of data. This can cause timeouts and instability.\n"
      ]
     },
     "metadata": {},
     "output_type": "display_data"
    },
    {
     "data": {
      "text/html": [
       "<pre style=\"white-space:pre;overflow-x:auto;line-height:normal;font-family:Menlo,'DejaVu Sans Mono',consolas,'Courier New',monospace\">08:57:09.575 | <span style=\"color: #008080; text-decoration-color: #008080\">INFO</span>    | distributed.core - Event loop was unresponsive in Nanny for 298.92s.  This is often caused by long-running GIL-holding functions or moving large chunks of data. This can cause timeouts and instability.\n",
       "</pre>\n"
      ],
      "text/plain": [
       "08:57:09.575 | \u001b[36mINFO\u001b[0m    | distributed.core - Event loop was unresponsive in Nanny for 298.92s.  This is often caused by long-running GIL-holding functions or moving large chunks of data. This can cause timeouts and instability.\n"
      ]
     },
     "metadata": {},
     "output_type": "display_data"
    },
    {
     "data": {
      "text/html": [
       "<pre style=\"white-space:pre;overflow-x:auto;line-height:normal;font-family:Menlo,'DejaVu Sans Mono',consolas,'Courier New',monospace\">08:57:09.623 | <span style=\"color: #008080; text-decoration-color: #008080\">INFO</span>    | distributed.core - Event loop was unresponsive in Nanny for 298.97s.  This is often caused by long-running GIL-holding functions or moving large chunks of data. This can cause timeouts and instability.\n",
       "</pre>\n"
      ],
      "text/plain": [
       "08:57:09.623 | \u001b[36mINFO\u001b[0m    | distributed.core - Event loop was unresponsive in Nanny for 298.97s.  This is often caused by long-running GIL-holding functions or moving large chunks of data. This can cause timeouts and instability.\n"
      ]
     },
     "metadata": {},
     "output_type": "display_data"
    },
    {
     "data": {
      "text/html": [
       "<pre style=\"white-space:pre;overflow-x:auto;line-height:normal;font-family:Menlo,'DejaVu Sans Mono',consolas,'Courier New',monospace\">08:57:09.628 | <span style=\"color: #008080; text-decoration-color: #008080\">INFO</span>    | distributed.core - Event loop was unresponsive in Nanny for 298.97s.  This is often caused by long-running GIL-holding functions or moving large chunks of data. This can cause timeouts and instability.\n",
       "</pre>\n"
      ],
      "text/plain": [
       "08:57:09.628 | \u001b[36mINFO\u001b[0m    | distributed.core - Event loop was unresponsive in Nanny for 298.97s.  This is often caused by long-running GIL-holding functions or moving large chunks of data. This can cause timeouts and instability.\n"
      ]
     },
     "metadata": {},
     "output_type": "display_data"
    },
    {
     "data": {
      "text/html": [
       "<pre style=\"white-space:pre;overflow-x:auto;line-height:normal;font-family:Menlo,'DejaVu Sans Mono',consolas,'Courier New',monospace\">08:57:09.591 | <span style=\"color: #008080; text-decoration-color: #008080\">INFO</span>    | distributed.core - Event loop was unresponsive in Nanny for 298.94s.  This is often caused by long-running GIL-holding functions or moving large chunks of data. This can cause timeouts and instability.\n",
       "</pre>\n"
      ],
      "text/plain": [
       "08:57:09.591 | \u001b[36mINFO\u001b[0m    | distributed.core - Event loop was unresponsive in Nanny for 298.94s.  This is often caused by long-running GIL-holding functions or moving large chunks of data. This can cause timeouts and instability.\n"
      ]
     },
     "metadata": {},
     "output_type": "display_data"
    },
    {
     "data": {
      "text/html": [
       "<pre style=\"white-space:pre;overflow-x:auto;line-height:normal;font-family:Menlo,'DejaVu Sans Mono',consolas,'Courier New',monospace\">08:57:09.578 | <span style=\"color: #008080; text-decoration-color: #008080\">INFO</span>    | distributed.core - Event loop was unresponsive in Nanny for 298.92s.  This is often caused by long-running GIL-holding functions or moving large chunks of data. This can cause timeouts and instability.\n",
       "</pre>\n"
      ],
      "text/plain": [
       "08:57:09.578 | \u001b[36mINFO\u001b[0m    | distributed.core - Event loop was unresponsive in Nanny for 298.92s.  This is often caused by long-running GIL-holding functions or moving large chunks of data. This can cause timeouts and instability.\n"
      ]
     },
     "metadata": {},
     "output_type": "display_data"
    },
    {
     "data": {
      "text/html": [
       "<pre style=\"white-space:pre;overflow-x:auto;line-height:normal;font-family:Menlo,'DejaVu Sans Mono',consolas,'Courier New',monospace\">08:57:09.590 | <span style=\"color: #008080; text-decoration-color: #008080\">INFO</span>    | distributed.core - Event loop was unresponsive in Nanny for 298.94s.  This is often caused by long-running GIL-holding functions or moving large chunks of data. This can cause timeouts and instability.\n",
       "</pre>\n"
      ],
      "text/plain": [
       "08:57:09.590 | \u001b[36mINFO\u001b[0m    | distributed.core - Event loop was unresponsive in Nanny for 298.94s.  This is often caused by long-running GIL-holding functions or moving large chunks of data. This can cause timeouts and instability.\n"
      ]
     },
     "metadata": {},
     "output_type": "display_data"
    },
    {
     "data": {
      "text/html": [
       "<pre style=\"white-space:pre;overflow-x:auto;line-height:normal;font-family:Menlo,'DejaVu Sans Mono',consolas,'Courier New',monospace\">08:57:09.746 | <span style=\"color: #008080; text-decoration-color: #008080\">INFO</span>    | distributed.core - Event loop was unresponsive in Scheduler for 299.10s.  This is often caused by long-running GIL-holding functions or moving large chunks of data. This can cause timeouts and instability.\n",
       "</pre>\n"
      ],
      "text/plain": [
       "08:57:09.746 | \u001b[36mINFO\u001b[0m    | distributed.core - Event loop was unresponsive in Scheduler for 299.10s.  This is often caused by long-running GIL-holding functions or moving large chunks of data. This can cause timeouts and instability.\n"
      ]
     },
     "metadata": {},
     "output_type": "display_data"
    },
    {
     "data": {
      "text/html": [
       "<pre style=\"white-space:pre;overflow-x:auto;line-height:normal;font-family:Menlo,'DejaVu Sans Mono',consolas,'Courier New',monospace\">08:57:09.749 | <span style=\"color: #008080; text-decoration-color: #008080\">INFO</span>    | distributed.core - Event loop was unresponsive in Nanny for 299.09s.  This is often caused by long-running GIL-holding functions or moving large chunks of data. This can cause timeouts and instability.\n",
       "</pre>\n"
      ],
      "text/plain": [
       "08:57:09.749 | \u001b[36mINFO\u001b[0m    | distributed.core - Event loop was unresponsive in Nanny for 299.09s.  This is often caused by long-running GIL-holding functions or moving large chunks of data. This can cause timeouts and instability.\n"
      ]
     },
     "metadata": {},
     "output_type": "display_data"
    },
    {
     "data": {
      "text/html": [
       "<pre style=\"white-space:pre;overflow-x:auto;line-height:normal;font-family:Menlo,'DejaVu Sans Mono',consolas,'Courier New',monospace\">08:57:09.751 | <span style=\"color: #008080; text-decoration-color: #008080\">INFO</span>    | distributed.core - Event loop was unresponsive in Nanny for 299.10s.  This is often caused by long-running GIL-holding functions or moving large chunks of data. This can cause timeouts and instability.\n",
       "</pre>\n"
      ],
      "text/plain": [
       "08:57:09.751 | \u001b[36mINFO\u001b[0m    | distributed.core - Event loop was unresponsive in Nanny for 299.10s.  This is often caused by long-running GIL-holding functions or moving large chunks of data. This can cause timeouts and instability.\n"
      ]
     },
     "metadata": {},
     "output_type": "display_data"
    },
    {
     "data": {
      "text/html": [
       "<pre style=\"white-space:pre;overflow-x:auto;line-height:normal;font-family:Menlo,'DejaVu Sans Mono',consolas,'Courier New',monospace\">08:57:10.513 | <span style=\"color: #008080; text-decoration-color: #008080\">INFO</span>    | distributed.core - Event loop was unresponsive in Nanny for 299.85s.  This is often caused by long-running GIL-holding functions or moving large chunks of data. This can cause timeouts and instability.\n",
       "</pre>\n"
      ],
      "text/plain": [
       "08:57:10.513 | \u001b[36mINFO\u001b[0m    | distributed.core - Event loop was unresponsive in Nanny for 299.85s.  This is often caused by long-running GIL-holding functions or moving large chunks of data. This can cause timeouts and instability.\n"
      ]
     },
     "metadata": {},
     "output_type": "display_data"
    },
    {
     "data": {
      "text/html": [
       "<pre style=\"white-space:pre;overflow-x:auto;line-height:normal;font-family:Menlo,'DejaVu Sans Mono',consolas,'Courier New',monospace\">08:57:14.062 | <span style=\"color: #008080; text-decoration-color: #008080\">INFO</span>    | distributed.core - Event loop was unresponsive in Nanny for 303.40s.  This is often caused by long-running GIL-holding functions or moving large chunks of data. This can cause timeouts and instability.\n",
       "</pre>\n"
      ],
      "text/plain": [
       "08:57:14.062 | \u001b[36mINFO\u001b[0m    | distributed.core - Event loop was unresponsive in Nanny for 303.40s.  This is often caused by long-running GIL-holding functions or moving large chunks of data. This can cause timeouts and instability.\n"
      ]
     },
     "metadata": {},
     "output_type": "display_data"
    },
    {
     "data": {
      "text/html": [
       "<pre style=\"white-space:pre;overflow-x:auto;line-height:normal;font-family:Menlo,'DejaVu Sans Mono',consolas,'Courier New',monospace\">08:57:14.100 | <span style=\"color: #008080; text-decoration-color: #008080\">INFO</span>    | distributed.core - Event loop was unresponsive in Nanny for 5.49s.  This is often caused by long-running GIL-holding functions or moving large chunks of data. This can cause timeouts and instability.\n",
       "</pre>\n"
      ],
      "text/plain": [
       "08:57:14.100 | \u001b[36mINFO\u001b[0m    | distributed.core - Event loop was unresponsive in Nanny for 5.49s.  This is often caused by long-running GIL-holding functions or moving large chunks of data. This can cause timeouts and instability.\n"
      ]
     },
     "metadata": {},
     "output_type": "display_data"
    },
    {
     "data": {
      "text/html": [
       "<pre style=\"white-space:pre;overflow-x:auto;line-height:normal;font-family:Menlo,'DejaVu Sans Mono',consolas,'Courier New',monospace\">08:57:14.218 | <span style=\"color: #008080; text-decoration-color: #008080\">INFO</span>    | distributed.core - Event loop was unresponsive in Scheduler for 3.86s.  This is often caused by long-running GIL-holding functions or moving large chunks of data. This can cause timeouts and instability.\n",
       "</pre>\n"
      ],
      "text/plain": [
       "08:57:14.218 | \u001b[36mINFO\u001b[0m    | distributed.core - Event loop was unresponsive in Scheduler for 3.86s.  This is often caused by long-running GIL-holding functions or moving large chunks of data. This can cause timeouts and instability.\n"
      ]
     },
     "metadata": {},
     "output_type": "display_data"
    },
    {
     "data": {
      "text/html": [
       "<pre style=\"white-space:pre;overflow-x:auto;line-height:normal;font-family:Menlo,'DejaVu Sans Mono',consolas,'Courier New',monospace\">08:57:14.604 | <span style=\"color: #008080; text-decoration-color: #008080\">INFO</span>    | distributed.core - Event loop was unresponsive in Nanny for 303.94s.  This is often caused by long-running GIL-holding functions or moving large chunks of data. This can cause timeouts and instability.\n",
       "</pre>\n"
      ],
      "text/plain": [
       "08:57:14.604 | \u001b[36mINFO\u001b[0m    | distributed.core - Event loop was unresponsive in Nanny for 303.94s.  This is often caused by long-running GIL-holding functions or moving large chunks of data. This can cause timeouts and instability.\n"
      ]
     },
     "metadata": {},
     "output_type": "display_data"
    },
    {
     "data": {
      "text/html": [
       "<pre style=\"white-space:pre;overflow-x:auto;line-height:normal;font-family:Menlo,'DejaVu Sans Mono',consolas,'Courier New',monospace\">08:57:14.724 | <span style=\"color: #008080; text-decoration-color: #008080\">INFO</span>    | distributed.core - Event loop was unresponsive in Nanny for 6.42s.  This is often caused by long-running GIL-holding functions or moving large chunks of data. This can cause timeouts and instability.\n",
       "</pre>\n"
      ],
      "text/plain": [
       "08:57:14.724 | \u001b[36mINFO\u001b[0m    | distributed.core - Event loop was unresponsive in Nanny for 6.42s.  This is often caused by long-running GIL-holding functions or moving large chunks of data. This can cause timeouts and instability.\n"
      ]
     },
     "metadata": {},
     "output_type": "display_data"
    },
    {
     "data": {
      "text/html": [
       "<pre style=\"white-space:pre;overflow-x:auto;line-height:normal;font-family:Menlo,'DejaVu Sans Mono',consolas,'Courier New',monospace\">08:57:14.728 | <span style=\"color: #008080; text-decoration-color: #008080\">INFO</span>    | distributed.core - Event loop was unresponsive in Nanny for 5.22s.  This is often caused by long-running GIL-holding functions or moving large chunks of data. This can cause timeouts and instability.\n",
       "</pre>\n"
      ],
      "text/plain": [
       "08:57:14.728 | \u001b[36mINFO\u001b[0m    | distributed.core - Event loop was unresponsive in Nanny for 5.22s.  This is often caused by long-running GIL-holding functions or moving large chunks of data. This can cause timeouts and instability.\n"
      ]
     },
     "metadata": {},
     "output_type": "display_data"
    },
    {
     "data": {
      "text/html": [
       "<pre style=\"white-space:pre;overflow-x:auto;line-height:normal;font-family:Menlo,'DejaVu Sans Mono',consolas,'Courier New',monospace\">08:57:14.765 | <span style=\"color: #008080; text-decoration-color: #008080\">INFO</span>    | distributed.core - Event loop was unresponsive in Nanny for 5.21s.  This is often caused by long-running GIL-holding functions or moving large chunks of data. This can cause timeouts and instability.\n",
       "</pre>\n"
      ],
      "text/plain": [
       "08:57:14.765 | \u001b[36mINFO\u001b[0m    | distributed.core - Event loop was unresponsive in Nanny for 5.21s.  This is often caused by long-running GIL-holding functions or moving large chunks of data. This can cause timeouts and instability.\n"
      ]
     },
     "metadata": {},
     "output_type": "display_data"
    },
    {
     "data": {
      "text/html": [
       "<pre style=\"white-space:pre;overflow-x:auto;line-height:normal;font-family:Menlo,'DejaVu Sans Mono',consolas,'Courier New',monospace\">08:57:14.741 | <span style=\"color: #008080; text-decoration-color: #008080\">INFO</span>    | distributed.core - Event loop was unresponsive in Nanny for 304.08s.  This is often caused by long-running GIL-holding functions or moving large chunks of data. This can cause timeouts and instability.\n",
       "</pre>\n"
      ],
      "text/plain": [
       "08:57:14.741 | \u001b[36mINFO\u001b[0m    | distributed.core - Event loop was unresponsive in Nanny for 304.08s.  This is often caused by long-running GIL-holding functions or moving large chunks of data. This can cause timeouts and instability.\n"
      ]
     },
     "metadata": {},
     "output_type": "display_data"
    },
    {
     "data": {
      "text/html": [
       "<pre style=\"white-space:pre;overflow-x:auto;line-height:normal;font-family:Menlo,'DejaVu Sans Mono',consolas,'Courier New',monospace\">08:57:14.755 | <span style=\"color: #008080; text-decoration-color: #008080\">INFO</span>    | distributed.core - Event loop was unresponsive in Scheduler for 5.21s.  This is often caused by long-running GIL-holding functions or moving large chunks of data. This can cause timeouts and instability.\n",
       "</pre>\n"
      ],
      "text/plain": [
       "08:57:14.755 | \u001b[36mINFO\u001b[0m    | distributed.core - Event loop was unresponsive in Scheduler for 5.21s.  This is often caused by long-running GIL-holding functions or moving large chunks of data. This can cause timeouts and instability.\n"
      ]
     },
     "metadata": {},
     "output_type": "display_data"
    },
    {
     "data": {
      "text/html": [
       "<pre style=\"white-space:pre;overflow-x:auto;line-height:normal;font-family:Menlo,'DejaVu Sans Mono',consolas,'Courier New',monospace\">08:57:14.734 | <span style=\"color: #008080; text-decoration-color: #008080\">INFO</span>    | distributed.core - Event loop was unresponsive in Nanny for 4.37s.  This is often caused by long-running GIL-holding functions or moving large chunks of data. This can cause timeouts and instability.\n",
       "</pre>\n"
      ],
      "text/plain": [
       "08:57:14.734 | \u001b[36mINFO\u001b[0m    | distributed.core - Event loop was unresponsive in Nanny for 4.37s.  This is often caused by long-running GIL-holding functions or moving large chunks of data. This can cause timeouts and instability.\n"
      ]
     },
     "metadata": {},
     "output_type": "display_data"
    },
    {
     "data": {
      "text/html": [
       "<pre style=\"white-space:pre;overflow-x:auto;line-height:normal;font-family:Menlo,'DejaVu Sans Mono',consolas,'Courier New',monospace\">08:57:14.802 | <span style=\"color: #008080; text-decoration-color: #008080\">INFO</span>    | distributed.core - Event loop was unresponsive in Nanny for 5.21s.  This is often caused by long-running GIL-holding functions or moving large chunks of data. This can cause timeouts and instability.\n",
       "</pre>\n"
      ],
      "text/plain": [
       "08:57:14.802 | \u001b[36mINFO\u001b[0m    | distributed.core - Event loop was unresponsive in Nanny for 5.21s.  This is often caused by long-running GIL-holding functions or moving large chunks of data. This can cause timeouts and instability.\n"
      ]
     },
     "metadata": {},
     "output_type": "display_data"
    },
    {
     "data": {
      "text/html": [
       "<pre style=\"white-space:pre;overflow-x:auto;line-height:normal;font-family:Menlo,'DejaVu Sans Mono',consolas,'Courier New',monospace\">08:57:14.819 | <span style=\"color: #008080; text-decoration-color: #008080\">INFO</span>    | distributed.core - Event loop was unresponsive in Nanny for 304.16s.  This is often caused by long-running GIL-holding functions or moving large chunks of data. This can cause timeouts and instability.\n",
       "</pre>\n"
      ],
      "text/plain": [
       "08:57:14.819 | \u001b[36mINFO\u001b[0m    | distributed.core - Event loop was unresponsive in Nanny for 304.16s.  This is often caused by long-running GIL-holding functions or moving large chunks of data. This can cause timeouts and instability.\n"
      ]
     },
     "metadata": {},
     "output_type": "display_data"
    },
    {
     "data": {
      "text/html": [
       "<pre style=\"white-space:pre;overflow-x:auto;line-height:normal;font-family:Menlo,'DejaVu Sans Mono',consolas,'Courier New',monospace\">08:57:14.827 | <span style=\"color: #008080; text-decoration-color: #008080\">INFO</span>    | distributed.core - Event loop was unresponsive in Nanny for 5.25s.  This is often caused by long-running GIL-holding functions or moving large chunks of data. This can cause timeouts and instability.\n",
       "</pre>\n"
      ],
      "text/plain": [
       "08:57:14.827 | \u001b[36mINFO\u001b[0m    | distributed.core - Event loop was unresponsive in Nanny for 5.25s.  This is often caused by long-running GIL-holding functions or moving large chunks of data. This can cause timeouts and instability.\n"
      ]
     },
     "metadata": {},
     "output_type": "display_data"
    },
    {
     "data": {
      "text/html": [
       "<pre style=\"white-space:pre;overflow-x:auto;line-height:normal;font-family:Menlo,'DejaVu Sans Mono',consolas,'Courier New',monospace\">08:57:14.828 | <span style=\"color: #008080; text-decoration-color: #008080\">INFO</span>    | distributed.core - Event loop was unresponsive in Nanny for 4.47s.  This is often caused by long-running GIL-holding functions or moving large chunks of data. This can cause timeouts and instability.\n",
       "</pre>\n"
      ],
      "text/plain": [
       "08:57:14.828 | \u001b[36mINFO\u001b[0m    | distributed.core - Event loop was unresponsive in Nanny for 4.47s.  This is often caused by long-running GIL-holding functions or moving large chunks of data. This can cause timeouts and instability.\n"
      ]
     },
     "metadata": {},
     "output_type": "display_data"
    },
    {
     "data": {
      "text/html": [
       "<pre style=\"white-space:pre;overflow-x:auto;line-height:normal;font-family:Menlo,'DejaVu Sans Mono',consolas,'Courier New',monospace\">08:57:14.831 | <span style=\"color: #008080; text-decoration-color: #008080\">INFO</span>    | distributed.core - Event loop was unresponsive in Scheduler for 5.08s.  This is often caused by long-running GIL-holding functions or moving large chunks of data. This can cause timeouts and instability.\n",
       "</pre>\n"
      ],
      "text/plain": [
       "08:57:14.831 | \u001b[36mINFO\u001b[0m    | distributed.core - Event loop was unresponsive in Scheduler for 5.08s.  This is often caused by long-running GIL-holding functions or moving large chunks of data. This can cause timeouts and instability.\n"
      ]
     },
     "metadata": {},
     "output_type": "display_data"
    },
    {
     "data": {
      "text/html": [
       "<pre style=\"white-space:pre;overflow-x:auto;line-height:normal;font-family:Menlo,'DejaVu Sans Mono',consolas,'Courier New',monospace\">08:57:14.908 | <span style=\"color: #008080; text-decoration-color: #008080\">INFO</span>    | distributed.core - Event loop was unresponsive in Nanny for 5.14s.  This is often caused by long-running GIL-holding functions or moving large chunks of data. This can cause timeouts and instability.\n",
       "</pre>\n"
      ],
      "text/plain": [
       "08:57:14.908 | \u001b[36mINFO\u001b[0m    | distributed.core - Event loop was unresponsive in Nanny for 5.14s.  This is often caused by long-running GIL-holding functions or moving large chunks of data. This can cause timeouts and instability.\n"
      ]
     },
     "metadata": {},
     "output_type": "display_data"
    },
    {
     "data": {
      "text/html": [
       "<pre style=\"white-space:pre;overflow-x:auto;line-height:normal;font-family:Menlo,'DejaVu Sans Mono',consolas,'Courier New',monospace\">08:57:14.922 | <span style=\"color: #008080; text-decoration-color: #008080\">INFO</span>    | distributed.core - Event loop was unresponsive in Nanny for 4.56s.  This is often caused by long-running GIL-holding functions or moving large chunks of data. This can cause timeouts and instability.\n",
       "</pre>\n"
      ],
      "text/plain": [
       "08:57:14.922 | \u001b[36mINFO\u001b[0m    | distributed.core - Event loop was unresponsive in Nanny for 4.56s.  This is often caused by long-running GIL-holding functions or moving large chunks of data. This can cause timeouts and instability.\n"
      ]
     },
     "metadata": {},
     "output_type": "display_data"
    },
    {
     "data": {
      "text/html": [
       "<pre style=\"white-space:pre;overflow-x:auto;line-height:normal;font-family:Menlo,'DejaVu Sans Mono',consolas,'Courier New',monospace\">08:57:14.952 | <span style=\"color: #008080; text-decoration-color: #008080\">INFO</span>    | distributed.core - Event loop was unresponsive in Scheduler for 6.75s.  This is often caused by long-running GIL-holding functions or moving large chunks of data. This can cause timeouts and instability.\n",
       "</pre>\n"
      ],
      "text/plain": [
       "08:57:14.952 | \u001b[36mINFO\u001b[0m    | distributed.core - Event loop was unresponsive in Scheduler for 6.75s.  This is often caused by long-running GIL-holding functions or moving large chunks of data. This can cause timeouts and instability.\n"
      ]
     },
     "metadata": {},
     "output_type": "display_data"
    },
    {
     "data": {
      "text/html": [
       "<pre style=\"white-space:pre;overflow-x:auto;line-height:normal;font-family:Menlo,'DejaVu Sans Mono',consolas,'Courier New',monospace\">08:57:14.990 | <span style=\"color: #008080; text-decoration-color: #008080\">INFO</span>    | distributed.core - Event loop was unresponsive in Nanny for 4.48s.  This is often caused by long-running GIL-holding functions or moving large chunks of data. This can cause timeouts and instability.\n",
       "</pre>\n"
      ],
      "text/plain": [
       "08:57:14.990 | \u001b[36mINFO\u001b[0m    | distributed.core - Event loop was unresponsive in Nanny for 4.48s.  This is often caused by long-running GIL-holding functions or moving large chunks of data. This can cause timeouts and instability.\n"
      ]
     },
     "metadata": {},
     "output_type": "display_data"
    },
    {
     "data": {
      "text/html": [
       "<pre style=\"white-space:pre;overflow-x:auto;line-height:normal;font-family:Menlo,'DejaVu Sans Mono',consolas,'Courier New',monospace\">08:57:15.027 | <span style=\"color: #008080; text-decoration-color: #008080\">INFO</span>    | distributed.core - Event loop was unresponsive in Nanny for 4.66s.  This is often caused by long-running GIL-holding functions or moving large chunks of data. This can cause timeouts and instability.\n",
       "</pre>\n"
      ],
      "text/plain": [
       "08:57:15.027 | \u001b[36mINFO\u001b[0m    | distributed.core - Event loop was unresponsive in Nanny for 4.66s.  This is often caused by long-running GIL-holding functions or moving large chunks of data. This can cause timeouts and instability.\n"
      ]
     },
     "metadata": {},
     "output_type": "display_data"
    },
    {
     "data": {
      "text/html": [
       "<pre style=\"white-space:pre;overflow-x:auto;line-height:normal;font-family:Menlo,'DejaVu Sans Mono',consolas,'Courier New',monospace\">08:57:15.029 | <span style=\"color: #008080; text-decoration-color: #008080\">INFO</span>    | distributed.core - Event loop was unresponsive in Nanny for 5.53s.  This is often caused by long-running GIL-holding functions or moving large chunks of data. This can cause timeouts and instability.\n",
       "</pre>\n"
      ],
      "text/plain": [
       "08:57:15.029 | \u001b[36mINFO\u001b[0m    | distributed.core - Event loop was unresponsive in Nanny for 5.53s.  This is often caused by long-running GIL-holding functions or moving large chunks of data. This can cause timeouts and instability.\n"
      ]
     },
     "metadata": {},
     "output_type": "display_data"
    },
    {
     "data": {
      "text/html": [
       "<pre style=\"white-space:pre;overflow-x:auto;line-height:normal;font-family:Menlo,'DejaVu Sans Mono',consolas,'Courier New',monospace\">08:57:15.083 | <span style=\"color: #008080; text-decoration-color: #008080\">INFO</span>    | distributed.core - Event loop was unresponsive in Nanny for 5.54s.  This is often caused by long-running GIL-holding functions or moving large chunks of data. This can cause timeouts and instability.\n",
       "</pre>\n"
      ],
      "text/plain": [
       "08:57:15.083 | \u001b[36mINFO\u001b[0m    | distributed.core - Event loop was unresponsive in Nanny for 5.54s.  This is often caused by long-running GIL-holding functions or moving large chunks of data. This can cause timeouts and instability.\n"
      ]
     },
     "metadata": {},
     "output_type": "display_data"
    },
    {
     "data": {
      "text/html": [
       "<pre style=\"white-space:pre;overflow-x:auto;line-height:normal;font-family:Menlo,'DejaVu Sans Mono',consolas,'Courier New',monospace\">08:57:15.101 | <span style=\"color: #008080; text-decoration-color: #008080\">INFO</span>    | distributed.core - Event loop was unresponsive in Nanny for 5.51s.  This is often caused by long-running GIL-holding functions or moving large chunks of data. This can cause timeouts and instability.\n",
       "</pre>\n"
      ],
      "text/plain": [
       "08:57:15.101 | \u001b[36mINFO\u001b[0m    | distributed.core - Event loop was unresponsive in Nanny for 5.51s.  This is often caused by long-running GIL-holding functions or moving large chunks of data. This can cause timeouts and instability.\n"
      ]
     },
     "metadata": {},
     "output_type": "display_data"
    },
    {
     "data": {
      "text/html": [
       "<pre style=\"white-space:pre;overflow-x:auto;line-height:normal;font-family:Menlo,'DejaVu Sans Mono',consolas,'Courier New',monospace\">08:57:15.109 | <span style=\"color: #008080; text-decoration-color: #008080\">INFO</span>    | distributed.core - Event loop was unresponsive in Nanny for 5.36s.  This is often caused by long-running GIL-holding functions or moving large chunks of data. This can cause timeouts and instability.\n",
       "</pre>\n"
      ],
      "text/plain": [
       "08:57:15.109 | \u001b[36mINFO\u001b[0m    | distributed.core - Event loop was unresponsive in Nanny for 5.36s.  This is often caused by long-running GIL-holding functions or moving large chunks of data. This can cause timeouts and instability.\n"
      ]
     },
     "metadata": {},
     "output_type": "display_data"
    }
   ],
   "source": [
    "# Read and tweak to fix the dtypes of pick-up and drop-off\n",
    "def read_tweak_df(src: str, color: str) -> pd.DataFrame:\n",
    "    dict_types = {\"store_and_fwd_flag\": str}\n",
    "    cols_dict = {\"tpep_pickup_datetime\": \"pickup_datetime\", \n",
    "                 \"tpep_dropoff_datetime\": \"dropoff_datetime\",\n",
    "                 \"lpep_pickup_datetime\": \"pickup_datetime\", \n",
    "                 \"lpep_dropoff_datetime\": \"dropoff_datetime\"\n",
    "                 }\n",
    "    \n",
    "    df = (pd.read_csv(src, parse_dates=[1,2], dtype=dict_types, compression=\"gzip\")\n",
    "          .assign(category = color)\n",
    "          .rename(columns=cols_dict)\n",
    "          .fillna(value={\"passenger_count\": 0})\n",
    "        )\n",
    "    # filter warningspy\n",
    "    warnings.filterwarnings('ignore')\n",
    "    print(f\"Data frame number of rows: {df.shape[0]}\")\n",
    "    return df\n",
    " \n",
    "df_green = read_tweak_df(source_file_green, color=\"green\")\n",
    "df_green.head()"
   ]
  },
  {
   "cell_type": "code",
   "execution_count": 47,
   "metadata": {},
   "outputs": [
    {
     "name": "stdout",
     "output_type": "stream",
     "text": [
      "<class 'pandas.core.frame.DataFrame'>\n",
      "RangeIndex: 575685 entries, 0 to 575684\n",
      "Data columns (total 21 columns):\n",
      " #   Column                 Non-Null Count   Dtype         \n",
      "---  ------                 --------------   -----         \n",
      " 0   VendorID               575685 non-null  int64         \n",
      " 1   pickup_datetime        575685 non-null  datetime64[ns]\n",
      " 2   dropoff_datetime       575685 non-null  datetime64[ns]\n",
      " 3   store_and_fwd_flag     575685 non-null  object        \n",
      " 4   RatecodeID             575685 non-null  int64         \n",
      " 5   PULocationID           575685 non-null  int64         \n",
      " 6   DOLocationID           575685 non-null  int64         \n",
      " 7   passenger_count        575685 non-null  int64         \n",
      " 8   trip_distance          575685 non-null  float64       \n",
      " 9   fare_amount            575685 non-null  float64       \n",
      " 10  extra                  575685 non-null  float64       \n",
      " 11  mta_tax                575685 non-null  float64       \n",
      " 12  tip_amount             575685 non-null  float64       \n",
      " 13  tolls_amount           575685 non-null  float64       \n",
      " 14  ehail_fee              0 non-null       float64       \n",
      " 15  improvement_surcharge  575685 non-null  float64       \n",
      " 16  total_amount           575685 non-null  float64       \n",
      " 17  payment_type           575685 non-null  int64         \n",
      " 18  trip_type              575685 non-null  int64         \n",
      " 19  congestion_surcharge   575685 non-null  float64       \n",
      " 20  category               575685 non-null  object        \n",
      "dtypes: datetime64[ns](2), float64(10), int64(7), object(2)\n",
      "memory usage: 92.2+ MB\n"
     ]
    }
   ],
   "source": [
    "df_green.info()"
   ]
  },
  {
   "cell_type": "code",
   "execution_count": 4,
   "metadata": {},
   "outputs": [
    {
     "name": "stderr",
     "output_type": "stream",
     "text": [
      "UserWarning: `read_*` implementation has mismatches with pandas:\n",
      "Data types of partitions are different! Please refer to the troubleshooting section of the Modin documentation to fix this issue.\n"
     ]
    },
    {
     "name": "stdout",
     "output_type": "stream",
     "text": [
      "Data frame number of rows: 237993\n"
     ]
    },
    {
     "data": {
      "text/html": [
       "<div>\n",
       "<style scoped>\n",
       "    .dataframe tbody tr th:only-of-type {\n",
       "        vertical-align: middle;\n",
       "    }\n",
       "\n",
       "    .dataframe tbody tr th {\n",
       "        vertical-align: top;\n",
       "    }\n",
       "\n",
       "    .dataframe thead th {\n",
       "        text-align: right;\n",
       "    }\n",
       "</style>\n",
       "<table border=\"1\" class=\"dataframe\">\n",
       "  <thead>\n",
       "    <tr style=\"text-align: right;\">\n",
       "      <th></th>\n",
       "      <th>VendorID</th>\n",
       "      <th>pickup_datetime</th>\n",
       "      <th>dropoff_datetime</th>\n",
       "      <th>passenger_count</th>\n",
       "      <th>trip_distance</th>\n",
       "      <th>RatecodeID</th>\n",
       "      <th>store_and_fwd_flag</th>\n",
       "      <th>PULocationID</th>\n",
       "      <th>DOLocationID</th>\n",
       "      <th>payment_type</th>\n",
       "      <th>fare_amount</th>\n",
       "      <th>extra</th>\n",
       "      <th>mta_tax</th>\n",
       "      <th>tip_amount</th>\n",
       "      <th>tolls_amount</th>\n",
       "      <th>improvement_surcharge</th>\n",
       "      <th>total_amount</th>\n",
       "      <th>congestion_surcharge</th>\n",
       "      <th>category</th>\n",
       "    </tr>\n",
       "  </thead>\n",
       "  <tbody>\n",
       "    <tr>\n",
       "      <th>0</th>\n",
       "      <td>1.0</td>\n",
       "      <td>2020-04-01 00:41:22</td>\n",
       "      <td>2020-04-01 01:01:53</td>\n",
       "      <td>1.0</td>\n",
       "      <td>1.20</td>\n",
       "      <td>1.0</td>\n",
       "      <td>N</td>\n",
       "      <td>41</td>\n",
       "      <td>24</td>\n",
       "      <td>2.0</td>\n",
       "      <td>5.5</td>\n",
       "      <td>0.5</td>\n",
       "      <td>0.5</td>\n",
       "      <td>0.00</td>\n",
       "      <td>0.0</td>\n",
       "      <td>0.3</td>\n",
       "      <td>6.80</td>\n",
       "      <td>0.0</td>\n",
       "      <td>yellow</td>\n",
       "    </tr>\n",
       "    <tr>\n",
       "      <th>1</th>\n",
       "      <td>1.0</td>\n",
       "      <td>2020-04-01 00:56:00</td>\n",
       "      <td>2020-04-01 01:09:25</td>\n",
       "      <td>1.0</td>\n",
       "      <td>3.40</td>\n",
       "      <td>1.0</td>\n",
       "      <td>N</td>\n",
       "      <td>95</td>\n",
       "      <td>197</td>\n",
       "      <td>1.0</td>\n",
       "      <td>12.5</td>\n",
       "      <td>0.5</td>\n",
       "      <td>0.5</td>\n",
       "      <td>2.75</td>\n",
       "      <td>0.0</td>\n",
       "      <td>0.3</td>\n",
       "      <td>16.55</td>\n",
       "      <td>0.0</td>\n",
       "      <td>yellow</td>\n",
       "    </tr>\n",
       "    <tr>\n",
       "      <th>2</th>\n",
       "      <td>1.0</td>\n",
       "      <td>2020-04-01 00:00:26</td>\n",
       "      <td>2020-04-01 00:09:25</td>\n",
       "      <td>1.0</td>\n",
       "      <td>2.80</td>\n",
       "      <td>1.0</td>\n",
       "      <td>N</td>\n",
       "      <td>237</td>\n",
       "      <td>137</td>\n",
       "      <td>1.0</td>\n",
       "      <td>10.0</td>\n",
       "      <td>3.0</td>\n",
       "      <td>0.5</td>\n",
       "      <td>1.00</td>\n",
       "      <td>0.0</td>\n",
       "      <td>0.3</td>\n",
       "      <td>14.80</td>\n",
       "      <td>2.5</td>\n",
       "      <td>yellow</td>\n",
       "    </tr>\n",
       "    <tr>\n",
       "      <th>3</th>\n",
       "      <td>1.0</td>\n",
       "      <td>2020-04-01 00:24:38</td>\n",
       "      <td>2020-04-01 00:34:38</td>\n",
       "      <td>0.0</td>\n",
       "      <td>2.60</td>\n",
       "      <td>1.0</td>\n",
       "      <td>N</td>\n",
       "      <td>68</td>\n",
       "      <td>142</td>\n",
       "      <td>1.0</td>\n",
       "      <td>10.0</td>\n",
       "      <td>3.0</td>\n",
       "      <td>0.5</td>\n",
       "      <td>1.00</td>\n",
       "      <td>0.0</td>\n",
       "      <td>0.3</td>\n",
       "      <td>14.80</td>\n",
       "      <td>2.5</td>\n",
       "      <td>yellow</td>\n",
       "    </tr>\n",
       "    <tr>\n",
       "      <th>4</th>\n",
       "      <td>2.0</td>\n",
       "      <td>2020-04-01 00:13:24</td>\n",
       "      <td>2020-04-01 00:18:26</td>\n",
       "      <td>1.0</td>\n",
       "      <td>1.44</td>\n",
       "      <td>1.0</td>\n",
       "      <td>Y</td>\n",
       "      <td>263</td>\n",
       "      <td>74</td>\n",
       "      <td>1.0</td>\n",
       "      <td>6.5</td>\n",
       "      <td>0.5</td>\n",
       "      <td>0.5</td>\n",
       "      <td>3.00</td>\n",
       "      <td>0.0</td>\n",
       "      <td>0.3</td>\n",
       "      <td>13.30</td>\n",
       "      <td>2.5</td>\n",
       "      <td>yellow</td>\n",
       "    </tr>\n",
       "  </tbody>\n",
       "</table>\n",
       "</div>"
      ],
      "text/plain": [
       "   VendorID     pickup_datetime    dropoff_datetime  passenger_count  \\\n",
       "0       1.0 2020-04-01 00:41:22 2020-04-01 01:01:53              1.0   \n",
       "1       1.0 2020-04-01 00:56:00 2020-04-01 01:09:25              1.0   \n",
       "2       1.0 2020-04-01 00:00:26 2020-04-01 00:09:25              1.0   \n",
       "3       1.0 2020-04-01 00:24:38 2020-04-01 00:34:38              0.0   \n",
       "4       2.0 2020-04-01 00:13:24 2020-04-01 00:18:26              1.0   \n",
       "\n",
       "   trip_distance  RatecodeID store_and_fwd_flag  PULocationID  DOLocationID  \\\n",
       "0           1.20         1.0                  N            41            24   \n",
       "1           3.40         1.0                  N            95           197   \n",
       "2           2.80         1.0                  N           237           137   \n",
       "3           2.60         1.0                  N            68           142   \n",
       "4           1.44         1.0                  Y           263            74   \n",
       "\n",
       "   payment_type  fare_amount  extra  mta_tax  tip_amount  tolls_amount  \\\n",
       "0           2.0          5.5    0.5      0.5        0.00           0.0   \n",
       "1           1.0         12.5    0.5      0.5        2.75           0.0   \n",
       "2           1.0         10.0    3.0      0.5        1.00           0.0   \n",
       "3           1.0         10.0    3.0      0.5        1.00           0.0   \n",
       "4           1.0          6.5    0.5      0.5        3.00           0.0   \n",
       "\n",
       "   improvement_surcharge  total_amount  congestion_surcharge category  \n",
       "0                    0.3          6.80                   0.0   yellow  \n",
       "1                    0.3         16.55                   0.0   yellow  \n",
       "2                    0.3         14.80                   2.5   yellow  \n",
       "3                    0.3         14.80                   2.5   yellow  \n",
       "4                    0.3         13.30                   2.5   yellow  "
      ]
     },
     "execution_count": 4,
     "metadata": {},
     "output_type": "execute_result"
    }
   ],
   "source": [
    "df_yellow = read_tweak_df(source_file_yellow, color=\"yellow\")\n",
    "df_yellow.head()"
   ]
  },
  {
   "cell_type": "code",
   "execution_count": 51,
   "metadata": {},
   "outputs": [
    {
     "name": "stdout",
     "output_type": "stream",
     "text": [
      "<class 'pandas.core.frame.DataFrame'>\n",
      "RangeIndex: 237993 entries, 0 to 237992\n",
      "Data columns (total 19 columns):\n",
      " #   Column                 Non-Null Count   Dtype         \n",
      "---  ------                 --------------   -----         \n",
      " 0   VendorID               218480 non-null  float64       \n",
      " 1   pickup_datetime        237993 non-null  datetime64[ns]\n",
      " 2   dropoff_datetime       237993 non-null  datetime64[ns]\n",
      " 3   passenger_count        237993 non-null  float64       \n",
      " 4   trip_distance          237993 non-null  float64       \n",
      " 5   RatecodeID             218480 non-null  float64       \n",
      " 6   store_and_fwd_flag     218480 non-null  object        \n",
      " 7   PULocationID           237993 non-null  int64         \n",
      " 8   DOLocationID           237993 non-null  int64         \n",
      " 9   payment_type           218480 non-null  float64       \n",
      " 10  fare_amount            237993 non-null  float64       \n",
      " 11  extra                  237993 non-null  float64       \n",
      " 12  mta_tax                237993 non-null  float64       \n",
      " 13  tip_amount             237993 non-null  float64       \n",
      " 14  tolls_amount           237993 non-null  float64       \n",
      " 15  improvement_surcharge  237993 non-null  float64       \n",
      " 16  total_amount           237993 non-null  float64       \n",
      " 17  congestion_surcharge   237993 non-null  float64       \n",
      " 18  category               237993 non-null  object        \n",
      "dtypes: datetime64[ns](2), float64(13), int64(2), object(2)\n",
      "memory usage: 34.5+ MB\n"
     ]
    }
   ],
   "source": [
    "df_yellow.info()"
   ]
  },
  {
   "cell_type": "code",
   "execution_count": 43,
   "metadata": {},
   "outputs": [
    {
     "data": {
      "text/plain": [
       "19513"
      ]
     },
     "execution_count": 43,
     "metadata": {},
     "output_type": "execute_result"
    }
   ],
   "source": [
    "df_yellow.passenger_count.isna().sum()"
   ]
  },
  {
   "cell_type": "code",
   "execution_count": 56,
   "metadata": {},
   "outputs": [],
   "source": [
    "# Write DataFrame to BigQuery\n",
    "def write_bq(df: pd.DataFrame, year: int) -> None:\n",
    "    gcp_credentials_block = GcpCredentials.load(\"ny-taxi-gcp-creds\")\n",
    "    df.to_gbq(\n",
    "        destination_table=f\"ny_taxi.yellow_tripdata_{year}\",\n",
    "        project_id=\"dtc-de-2023\",\n",
    "        credentials=gcp_credentials_block.get_credentials_from_service_account(),\n",
    "        chunksize=500_000,\n",
    "        if_exists=\"append\",\n",
    "    )\n",
    "    return"
   ]
  },
  {
   "cell_type": "code",
   "execution_count": 57,
   "metadata": {},
   "outputs": [
    {
     "data": {
      "text/html": [
       "<pre style=\"white-space:pre;overflow-x:auto;line-height:normal;font-family:Menlo,'DejaVu Sans Mono',consolas,'Courier New',monospace\">15:43:13.533 | <span style=\"color: #d7d700; text-decoration-color: #d7d700\">WARNING</span> | google.auth._default - No project ID could be determined. Consider running `gcloud config set project` or setting the GOOGLE_CLOUD_PROJECT environment variable\n",
       "</pre>\n"
      ],
      "text/plain": [
       "15:43:13.533 | \u001b[38;5;184mWARNING\u001b[0m | google.auth._default - No project ID could be determined. Consider running `gcloud config set project` or setting the GOOGLE_CLOUD_PROJECT environment variable\n"
      ]
     },
     "metadata": {},
     "output_type": "display_data"
    },
    {
     "name": "stderr",
     "output_type": "stream",
     "text": [
      "100%|██████████| 1/1 [00:00<00:00, 3816.47it/s]\n"
     ]
    }
   ],
   "source": [
    "# THIS WORKING FINE JUST SET THE OS ENVIRON\n",
    "# write_bq(df_yellow, year=2019)"
   ]
  },
  {
   "cell_type": "code",
   "execution_count": null,
   "metadata": {},
   "outputs": [],
   "source": [
    "# Define ETL\n",
    "def etl_web_to_bq(year: int, month: int, color: str):\n",
    "    color = \"yellow\"\n",
    "    year = 2019\n",
    "    month = 1\n",
    "    dataset_url = f\"https://github.com/DataTalksClub/nyc-tlc-data/releases/download/{color}/{color}_tripdata_{year}-{month:02}.csv.gz\n",
    "\n",
    "    # Execution\n",
    "    # Extract data from web\n",
    "    data_file = get_data_from_web(dataset_url)\n",
    "    # Read and tweak data frame\n",
    "    df = read_tweak_df(source_file_green, color=color)\n",
    "    # Write to BQ\n",
    "    write_bq(df)\n",
    "    \n",
    "    return\n",
    "    "
   ]
  },
  {
   "cell_type": "code",
   "execution_count": null,
   "metadata": {},
   "outputs": [],
   "source": [
    "# Parent ETL\n",
    "def parent_etl_web_to_bq(years: list(int), months: list(int)):\n",
    "    year = [2019, 2020]\n",
    "    months = [1,2,3,4,5,6,7,8,9,10,11,12]\n",
    "    for year in years:\n",
    "        for month in months:\n",
    "            etl_web_to_bq(year, month)"
   ]
  },
  {
   "cell_type": "code",
   "execution_count": null,
   "metadata": {},
   "outputs": [],
   "source": [
    "if __name__ == \"__main__\":\n",
    "    parent_etl_web_to_bq()\n"
   ]
  },
  {
   "cell_type": "code",
   "execution_count": 2,
   "metadata": {},
   "outputs": [
    {
     "name": "stdout",
     "output_type": "stream",
     "text": [
      "green-1\n",
      "green-2\n",
      "green-3\n",
      "green-4\n",
      "green-5\n",
      "green-6\n",
      "green-7\n",
      "green-8\n",
      "green-9\n",
      "green-10\n",
      "green-11\n",
      "green-12\n",
      "yellow-1\n",
      "yellow-2\n",
      "yellow-3\n",
      "yellow-4\n",
      "yellow-5\n",
      "yellow-6\n",
      "yellow-7\n",
      "yellow-8\n",
      "yellow-9\n",
      "yellow-10\n",
      "yellow-11\n",
      "yellow-12\n"
     ]
    }
   ],
   "source": [
    "colors = [\"green\", \"yellow\"]   \n",
    "months = [1,2,3,4,5,6,7,8,9,10,11,12]\n",
    "for color in colors:\n",
    "    for month in months:\n",
    "        print(f\"{color}-{month}\")"
   ]
  }
 ],
 "metadata": {
  "kernelspec": {
   "display_name": "base",
   "language": "python",
   "name": "python3"
  },
  "language_info": {
   "codemirror_mode": {
    "name": "ipython",
    "version": 3
   },
   "file_extension": ".py",
   "mimetype": "text/x-python",
   "name": "python",
   "nbconvert_exporter": "python",
   "pygments_lexer": "ipython3",
   "version": "3.9.15"
  },
  "orig_nbformat": 4,
  "vscode": {
   "interpreter": {
    "hash": "c6e4e9f98eb68ad3b7c296f83d20e6de614cb42e90992a65aa266555a3137d0d"
   }
  }
 },
 "nbformat": 4,
 "nbformat_minor": 2
}
